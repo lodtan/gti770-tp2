{
 "cells": [
  {
   "cell_type": "markdown",
   "metadata": {},
   "source": [
    "# Laboratoire 2 : Arbre de désision, Bayes naïf et KNN\n",
    "#### Département du génie logiciel et des technologies de l’information\n",
    "\n",
    "| Étudiants             | LEMARCHANT HUGO - LEMH03039705 * TAN ELODIE - TANE25619607 * JACQUES-SYLVAIN LECOINTRE LECJ19128301 |\n",
    "|-----------------------|---------------------------------------------------------|\n",
    "| Cours                 | GTI770 - Systèmes intelligents et apprentissage machine |\n",
    "| Session               | Automne 2018                                            |\n",
    "| Groupe                | C                                                       |\n",
    "| Numéro du laboratoire | 02                                                      |\n",
    "| Professeur            | Prof. Hervé Lombaert                                    |\n",
    "| Chargé de laboratoire | Pierre-Luc Delisle                                      |\n",
    "| Date                  | 11/10/2018                                              |"
   ]
  },
  {
   "cell_type": "code",
   "execution_count": 58,
   "metadata": {},
   "outputs": [],
   "source": [
    "# -*- coding:utf-8 -*-\n",
    "import numpy as np\n",
    "import cv2\n",
    "import matplotlib.pyplot as plt\n",
    "import sys\n",
    "import os, random\n",
    "import math\n",
    "import collections\n",
    "from sklearn import tree\n",
    "from sklearn.ensemble import RandomForestClassifier\n",
    "from sklearn.model_selection import train_test_split, cross_val_score\n",
    "import scipy.ndimage as nd\n",
    "import csv\n",
    "import pandas as pd\n",
    "from sklearn.metrics import accuracy_score, classification_report, confusion_matrix\n",
    "from sklearn.neighbors import KNeighborsClassifier\n",
    "from sklearn.naive_bayes import GaussianNB\n",
    "from sklearn.naive_bayes import MultinomialNB\n",
    "from sklearn import preprocessing\n",
    "from sklearn.preprocessing import KBinsDiscretizer\n",
    "from sklearn.metrics import accuracy_score, f1_score\n",
    "from sklearn.model_selection import LeaveOneOut\n",
    "from sklearn.model_selection import GridSearchCV\n",
    "from IPython.display import Markdown"
   ]
  },
  {
   "cell_type": "markdown",
   "metadata": {},
   "source": [
    "## Spam"
   ]
  },
  {
   "cell_type": "code",
   "execution_count": 59,
   "metadata": {},
   "outputs": [
    {
     "data": {
      "text/plain": [
       "57\n",
       "0    0.599638\n",
       "1    0.400362\n",
       "Name: 0, dtype: float64"
      ]
     },
     "execution_count": 59,
     "metadata": {},
     "output_type": "execute_result"
    }
   ],
   "source": [
    "df = pd.read_csv('spam.csv', delimiter = ',', header=None)\n",
    "X_mail = df.loc[:, 0:56].values\n",
    "Y_mail = df.loc[:, 57].values\n",
    "\n",
    "Xm_train, Xm_test, Ym_train, Ym_test = train_test_split(X_mail, Y_mail, test_size=0.20, random_state=42, stratify=Y_mail)\n",
    "df.groupby(57).count()[0].divide(df.shape[0])"
   ]
  },
  {
   "cell_type": "markdown",
   "metadata": {},
   "source": [
    "La repartition des donnees montre environ 60% de courriels 'non spam' et 40% de courriels 'spam' comme indique dans l'enonce"
   ]
  },
  {
   "cell_type": "markdown",
   "metadata": {},
   "source": [
    "La repartition des classes (60% => 0 40% => 1) dans les ensembles de données est bien respectée comme demontré ci-dessous :"
   ]
  },
  {
   "cell_type": "code",
   "execution_count": 92,
   "metadata": {},
   "outputs": [
    {
     "name": "stdout",
     "output_type": "stream",
     "text": [
      "Repartition des donnees dans l'emsemble d'entrainement : [(0, 1324), (1, 884)]\n",
      "Repartition des donnees dans l'emsemble de test :[(0, 331), (1, 221)]\n"
     ]
    }
   ],
   "source": [
    "print('Repartition des donnees dans l\\'emsemble d\\'entrainement : {0}'.format(collections.Counter(Ym_train).most_common(2)))\n",
    "print('Repartition des donnees dans l\\'emsemble de test :{0}'.format(collections.Counter(Ym_test).most_common(2)))"
   ]
  },
  {
   "cell_type": "markdown",
   "metadata": {},
   "source": [
    "### Arbres de décision"
   ]
  },
  {
   "cell_type": "markdown",
   "metadata": {},
   "source": [
    "#### Max-depth : None , 3, 5, 10"
   ]
  },
  {
   "cell_type": "code",
   "execution_count": 61,
   "metadata": {},
   "outputs": [],
   "source": [
    "sthree_acc = []\n",
    "sthree_f1 = []\n",
    "\n",
    "for depth in (None,3, 5, 10):\n",
    "    clf = tree.DecisionTreeClassifier(max_depth=depth)\n",
    "    clf = clf.fit(Xm_train, Ym_train)\n",
    "    Y_pred = clf.predict(Xm_test)\n",
    "\n",
    "    acc = accuracy_score(Ym_test, Y_pred)\n",
    "    f1 = f1_score(Ym_test, Y_pred, average='weighted') \n",
    "\n",
    "    sthree_acc.append(acc)\n",
    "    sthree_f1.append(f1)"
   ]
  },
  {
   "cell_type": "markdown",
   "metadata": {},
   "source": [
    "### Arbres de décision - Accuracy & F1 Score"
   ]
  },
  {
   "cell_type": "code",
   "execution_count": 62,
   "metadata": {},
   "outputs": [
    {
     "data": {
      "image/png": "[encoded data removed]",
      "text/plain": [
       "<Figure size 432x288 with 1 Axes>"
      ]
     },
     "metadata": {
      "needs_background": "light"
     },
     "output_type": "display_data"
    }
   ],
   "source": [
    "for i, label in zip(range(0, 4), (0, 3, 5, 10)):\n",
    "    plt.plot(sthree_acc[i], sthree_f1[i], \"o\", label='max-depth = {}'.format(label))\n",
    "plt.xlabel(\"Accuracy\")\n",
    "plt.ylabel(\"F1 Score\")\n",
    "plt.legend(loc='upper left')\n",
    "plt.xlim([0.85, 1])\n",
    "plt.ylim([0.85, 1])\n",
    "plt.show()"
   ]
  },
  {
   "cell_type": "markdown",
   "metadata": {},
   "source": [
    "### Arbres de décision - Cross validation\n",
    "\n",
    "D'après le graphique des Accuracy et F1 scores, on se rend compte que le meilleur hyperparamètre pour les arbres de décision pour Spam est `max-depth = 10.` La Validation croisee sera donce effectuee avec l'hyperparamètre `max-depth = 10.` ."
   ]
  },
  {
   "cell_type": "code",
   "execution_count": 63,
   "metadata": {},
   "outputs": [
    {
     "name": "stdout",
     "output_type": "stream",
     "text": [
      "max_depth : 5 F1 score: 0.9075956678700361\n",
      "max_depth : 10 F1 score: 0.9170187069248442\n"
     ]
    }
   ],
   "source": [
    "K = 10\n",
    "for md in [5,10]:\n",
    "    clf = tree.DecisionTreeClassifier(max_depth = md)\n",
    "    sthree_CV_scores = cross_val_score(clf, X_mail, Y_mail, cv= K)\n",
    "    print('max_depth : {0} F1 score: {1}'.format(md,sum(sthree_CV_scores)/K))"
   ]
  },
  {
   "cell_type": "markdown",
   "metadata": {},
   "source": [
    "### KNN \n",
    "#### K = 3, 5, 10, Poids = 'uniform' & Poids = 'distance'"
   ]
  },
  {
   "cell_type": "code",
   "execution_count": 64,
   "metadata": {},
   "outputs": [],
   "source": [
    "sKNN_acc_uniform = []\n",
    "sKNN_f1_uniform = []\n",
    "\n",
    "sKNN_acc_distance = []\n",
    "sKNN_f1_distance = []"
   ]
  },
  {
   "cell_type": "code",
   "execution_count": 65,
   "metadata": {},
   "outputs": [],
   "source": [
    "for n_neigh in (3, 5, 10):\n",
    "    clf = KNeighborsClassifier(n_neighbors = n_neigh, weights='uniform')\n",
    "\n",
    "    clf = clf.fit(Xm_train, Ym_train)\n",
    "    Y_pred = clf.predict(Xm_test)\n",
    "\n",
    "    acc = accuracy_score(Ym_test, Y_pred)\n",
    "    f1 = f1_score(Ym_test, Y_pred, average='weighted') \n",
    "\n",
    "    sKNN_acc_uniform.append(acc)\n",
    "    sKNN_f1_uniform.append(f1)\n",
    "\n",
    "\n",
    "    clf = KNeighborsClassifier(n_neighbors = n_neigh, weights='distance')\n",
    "    clf = clf.fit(Xm_train, Ym_train)\n",
    "    Y_pred = clf.predict(Xm_test)\n",
    "\n",
    "    acc = accuracy_score(Ym_test, Y_pred)\n",
    "    f1 = f1_score(Ym_test, Y_pred, average='weighted') \n",
    "\n",
    "    sKNN_acc_distance.append(acc)\n",
    "    sKNN_f1_distance.append(f1)"
   ]
  },
  {
   "cell_type": "markdown",
   "metadata": {},
   "source": [
    "### KNN - Accuracy & F1 Scores"
   ]
  },
  {
   "cell_type": "code",
   "execution_count": 66,
   "metadata": {},
   "outputs": [
    {
     "data": {
      "image/png": "[encoded data removed]",
      "text/plain": [
       "<Figure size 432x288 with 1 Axes>"
      ]
     },
     "metadata": {
      "needs_background": "light"
     },
     "output_type": "display_data"
    }
   ],
   "source": [
    "for i, label in zip(range(0, 3), (3, 5, 10)):\n",
    "    plt.plot(sKNN_acc_uniform[i], sKNN_f1_uniform[i], \"o\", label='K = {}, poids = \"uniform\"'.format(label))\n",
    "    plt.plot(sKNN_acc_distance[i], sKNN_f1_distance[i], \"o\", label='K = {}, poids = \"distance\"'.format(label))\n",
    "plt.xlabel(\"Accuracy\")\n",
    "plt.ylabel(\"F1 Score\")\n",
    "plt.legend(loc='upper left')\n",
    "plt.xlim([0.75, 1])\n",
    "plt.ylim([0.75, 1])\n",
    "plt.show()"
   ]
  },
  {
   "cell_type": "markdown",
   "metadata": {},
   "source": [
    "### KNN - Cross-validation"
   ]
  },
  {
   "cell_type": "markdown",
   "metadata": {},
   "source": [
    "D'après le graphique des Accuracy et F1 scores, on se rend compte que le hyperparamètre K pour Spam est `K = 3` La Validation croisee sera donce effectuee avec l'hyperparamètre `K=3` ."
   ]
  },
  {
   "cell_type": "code",
   "execution_count": 67,
   "metadata": {},
   "outputs": [
    {
     "name": "stdout",
     "output_type": "stream",
     "text": [
      "0.8029222185756482\n"
     ]
    }
   ],
   "source": [
    "K = 10\n",
    "clf = KNeighborsClassifier(n_neighbors=3, weights='distance')\n",
    "sKNN_scores = cross_val_score(clf, X_mail, Y_mail, cv= K)\n",
    "print(sum(sKNN_scores)/K)"
   ]
  },
  {
   "cell_type": "markdown",
   "metadata": {},
   "source": [
    "### Bayes Naive\n",
    "#### Distribution Gaussienne"
   ]
  },
  {
   "cell_type": "markdown",
   "metadata": {},
   "source": [
    "hold out validation"
   ]
  },
  {
   "cell_type": "code",
   "execution_count": 68,
   "metadata": {},
   "outputs": [
    {
     "name": "stdout",
     "output_type": "stream",
     "text": [
      "Précision : 0.8387681159420289\n",
      "Score F1 : 0.8402037805334562\n"
     ]
    }
   ],
   "source": [
    "clf = GaussianNB()\n",
    "clf.fit(Xm_train, Ym_train)\n",
    "Y_pred = clf.predict(Xm_test)\n",
    "\n",
    "sgauss_acc = accuracy_score(Ym_test, Y_pred)\n",
    "sgauss_f1 = f1_score(Ym_test, Y_pred, average='weighted') \n",
    "\n",
    "print(\"Précision : {}\".format(sgauss_acc))\n",
    "print(\"Score F1 : {}\".format(sgauss_f1))"
   ]
  },
  {
   "cell_type": "markdown",
   "metadata": {},
   "source": [
    "validation croisee"
   ]
  },
  {
   "cell_type": "code",
   "execution_count": 69,
   "metadata": {},
   "outputs": [
    {
     "name": "stdout",
     "output_type": "stream",
     "text": [
      "0.8122848703642929\n"
     ]
    }
   ],
   "source": [
    "K = 10\n",
    "clf = GaussianNB()\n",
    "scores = cross_val_score(clf, X_mail, Y_mail, cv=K)\n",
    "print(sum(scores)/K)"
   ]
  },
  {
   "cell_type": "markdown",
   "metadata": {},
   "source": [
    "#### Distribution  Multinomiale"
   ]
  },
  {
   "cell_type": "markdown",
   "metadata": {},
   "source": [
    "validation hold out"
   ]
  },
  {
   "cell_type": "code",
   "execution_count": 70,
   "metadata": {},
   "outputs": [
    {
     "name": "stdout",
     "output_type": "stream",
     "text": [
      "Précision : 0.9094202898550725\n",
      "Score F1 : 0.9076189451243262\n"
     ]
    }
   ],
   "source": [
    "est = KBinsDiscretizer(n_bins=3, encode='ordinal', strategy='uniform')\n",
    "est.fit(X_mail) \n",
    "\n",
    "scaler = preprocessing.MinMaxScaler()\n",
    "Xm_scaled = scaler.fit_transform(X_mail)\n",
    "\n",
    "Xm_train, Xm_test, Ym_train, Ym_test = train_test_split(Xm_scaled, Y_mail, test_size=0.20, random_state=42, stratify=Y_mail)\n",
    "\n",
    "clf = MultinomialNB()\n",
    "clf.fit(Xm_train, Ym_train)\n",
    "Y_pred = clf.predict(Xm_test)\n",
    "\n",
    "smulti_acc = accuracy_score(Ym_test, Y_pred)\n",
    "smulti_f1 = f1_score(Ym_test, Y_pred, average='weighted') \n",
    "\n",
    "print(\"Précision : {}\".format(smulti_acc))\n",
    "print(\"Score F1 : {}\".format(smulti_f1))\n"
   ]
  },
  {
   "cell_type": "markdown",
   "metadata": {},
   "source": [
    "Bayes - distribution multionomiale - validation croisee"
   ]
  },
  {
   "cell_type": "code",
   "execution_count": 71,
   "metadata": {},
   "outputs": [
    {
     "name": "stdout",
     "output_type": "stream",
     "text": [
      "0.898148999015425\n"
     ]
    }
   ],
   "source": [
    "K = 10\n",
    "clf = MultinomialNB()\n",
    "smulti_scores = cross_val_score(clf, Xm_scaled, Y_mail, cv= K)\n",
    "print(sum(smulti_scores)/K)"
   ]
  },
  {
   "cell_type": "markdown",
   "metadata": {},
   "source": [
    "### forêts aléatoires (random forest)"
   ]
  },
  {
   "cell_type": "code",
   "execution_count": 72,
   "metadata": {},
   "outputs": [
    {
     "name": "stdout",
     "output_type": "stream",
     "text": [
      "Fitting 10 folds for each of 64 candidates, totalling 640 fits\n"
     ]
    },
    {
     "name": "stderr",
     "output_type": "stream",
     "text": [
      "[Parallel(n_jobs=-1)]: Using backend LokyBackend with 4 concurrent workers.\n",
      "[Parallel(n_jobs=-1)]: Done  33 tasks      | elapsed:    2.6s\n",
      "[Parallel(n_jobs=-1)]: Done 154 tasks      | elapsed:   12.6s\n",
      "[Parallel(n_jobs=-1)]: Done 357 tasks      | elapsed:   32.2s\n",
      "[Parallel(n_jobs=-1)]: Done 640 out of 640 | elapsed:  1.1min finished\n"
     ]
    },
    {
     "data": {
      "text/plain": [
       "GridSearchCV(cv=10, error_score='raise-deprecating',\n",
       "       estimator=RandomForestClassifier(bootstrap=True, class_weight=None, criterion='gini',\n",
       "            max_depth=None, max_features='auto', max_leaf_nodes=None,\n",
       "            min_impurity_decrease=0.0, min_impurity_split=None,\n",
       "            min_samples_leaf=1, min_samples_split=2,\n",
       "            min_weight_fraction_leaf=0.0, n_estimators='warn', n_jobs=None,\n",
       "            oob_score=False, random_state=None, verbose=0,\n",
       "            warm_start=False),\n",
       "       fit_params=None, iid='warn', n_jobs=-1,\n",
       "       param_grid={'max_depth': [3, 5, 10, 20, 30, 40, 50, 100], 'n_estimators': [10, 20, 30, 40, 50, 100, 200, 300]},\n",
       "       pre_dispatch='2*n_jobs', refit=True, return_train_score='warn',\n",
       "       scoring=None, verbose=2)"
      ]
     },
     "execution_count": 72,
     "metadata": {},
     "output_type": "execute_result"
    }
   ],
   "source": [
    "param_grid = {\n",
    "    'max_depth': [3,5,10,20,30,40,50,100],\n",
    "    'n_estimators': [10,20,30,40,50,100,200,300]\n",
    "}\n",
    "\n",
    "grid_search = GridSearchCV(estimator =  RandomForestClassifier(), param_grid = param_grid, cv = 10, n_jobs = -1, verbose = 2)\n",
    "grid_search.fit(Xm_train, Ym_train)"
   ]
  },
  {
   "cell_type": "code",
   "execution_count": 73,
   "metadata": {},
   "outputs": [
    {
     "name": "stdout",
     "output_type": "stream",
     "text": [
      "Précision : 0.9492753623188406\n",
      "Score F1 : 0.9490656870638756\n"
     ]
    }
   ],
   "source": [
    "clf=RandomForestClassifier(n_estimators=grid_search.best_params_['n_estimators'],max_depth=grid_search.best_params_['max_depth'])\n",
    "clf.fit(Xm_train,Ym_train)\n",
    "Y_pred = clf.predict(Xm_test)\n",
    "srandfor_acc = accuracy_score(Ym_test, Y_pred)\n",
    "srandfor_f1 = f1_score(Ym_test, Y_pred, average='weighted') \n",
    "print(\"Précision : {}\".format(srandfor_acc))\n",
    "print(\"Score F1 : {}\".format(srandfor_f1))"
   ]
  },
  {
   "cell_type": "code",
   "execution_count": 74,
   "metadata": {},
   "outputs": [
    {
     "name": "stdout",
     "output_type": "stream",
     "text": [
      "0.9384370015948962\n"
     ]
    }
   ],
   "source": [
    "scores = cross_val_score(clf, Xm_test, Ym_test, cv= K)\n",
    "print(sum(scores)/K)"
   ]
  },
  {
   "cell_type": "markdown",
   "metadata": {},
   "source": [
    "## Analyse de galaxies\n",
    "\n",
    "Nous n'avons pas utilisé la recherche par grille pour les données Spam, mais nous allons l'utiliser ici pour définir les meilleurs hyperparamètres pour l'algorithme des K-plus proches voisins. Nous aurions pu l'utiliser dans les cas précédents mais cela ne change rien en terme de résultats purs."
   ]
  },
  {
   "cell_type": "code",
   "execution_count": 75,
   "metadata": {},
   "outputs": [],
   "source": [
    "feature_vectors = pd.read_csv('galaxy_feature_vectors.csv', delimiter = ',', header=None)\n",
    "labels = pd.read_csv('galaxy_label_data_set.csv', delimiter = ',')\n",
    "X_galaxy = pd.read_csv('galaxy_feature_vectors.csv', delimiter = ',', header=None).values[:,0:-1]\n",
    "Y_galaxy = pd.read_csv('galaxy_feature_vectors.csv', delimiter = ',', header=None).values[:,-1:].astype(int).flatten()\n",
    "Xg_train, Xg_test, Yg_train, Yg_test = train_test_split(X_galaxy, Y_galaxy, test_size=0.20, random_state=42, stratify=Y_galaxy)"
   ]
  },
  {
   "cell_type": "markdown",
   "metadata": {},
   "source": [
    "##### Utilisons les caracteristiques du TP1 dans le vecteur d'entree (qu'est ce qui garanti que l'ordre des observations de galaxy_feature_vectors.csv soit le meme que celles du TP1 ? )"
   ]
  },
  {
   "cell_type": "code",
   "execution_count": 76,
   "metadata": {},
   "outputs": [],
   "source": [
    "X_galaxy_TP1 = pd.read_csv('vectors_TP1.csv', delimiter = ',').values[:,0:2]\n",
    "# utilisons uniquement circularite et aspect ratio ratio\n",
    "X_galaxy_TP1_1= np.concatenate([X_galaxy,X_galaxy_TP1[:,0:2]],axis=1)\n",
    "Xgtp1_train, Xgtp1_test, Ygtp1_train, Ygtp1_test = train_test_split(X_galaxy_TP1_1, Y_galaxy, test_size=0.20, random_state=42, stratify=Y_galaxy)"
   ]
  },
  {
   "cell_type": "markdown",
   "metadata": {},
   "source": [
    "Nous observons une incoherennce dans les classes de sortie entre 'galaxy_feature_vectors.csv' et 'galaxy_label_data_set.csv' comme le montre le print ci-dessous :"
   ]
  },
  {
   "cell_type": "code",
   "execution_count": 77,
   "metadata": {
    "scrolled": true
   },
   "outputs": [
    {
     "name": "stdout",
     "output_type": "stream",
     "text": [
      "0    1.0\n",
      "1    0.0\n",
      "2    0.0\n",
      "3    0.0\n",
      "4    0.0\n",
      "5    1.0\n",
      "Name: 75, dtype: float64\n",
      "       id   class\n",
      "0  100090  smooth\n",
      "1  100134  spiral\n",
      "2  100322  spiral\n",
      "3  100380  spiral\n",
      "4  100458  smooth\n",
      "5  100479  smooth\n"
     ]
    }
   ],
   "source": [
    "print(pd.read_csv('galaxy_feature_vectors.csv', delimiter = ',', header=None)[75].head(6))\n",
    "print(labels.head(6)) "
   ]
  },
  {
   "cell_type": "markdown",
   "metadata": {},
   "source": [
    "### KNN "
   ]
  },
  {
   "cell_type": "code",
   "execution_count": 78,
   "metadata": {},
   "outputs": [],
   "source": [
    "gKNN_acc_uniform = []\n",
    "gKNN_f1_uniform = []\n",
    "\n",
    "gKNN_acc_distance = []\n",
    "gKNN_f1_distance = []"
   ]
  },
  {
   "cell_type": "code",
   "execution_count": 79,
   "metadata": {},
   "outputs": [
    {
     "name": "stdout",
     "output_type": "stream",
     "text": [
      "{'n_neighbors': 10, 'weights': 'distance'}\n"
     ]
    }
   ],
   "source": [
    "parameters = {'weights':('uniform', 'distance'), 'n_neighbors':[3, 5, 10]}\n",
    "\n",
    "knn = KNeighborsClassifier()\n",
    "\n",
    "clf = GridSearchCV(knn, parameters, cv=10)\n",
    "clf.fit(X_galaxy, Y_galaxy)\n",
    "\n",
    "print(clf.best_params_)"
   ]
  },
  {
   "cell_type": "markdown",
   "metadata": {},
   "source": [
    "#### K = 3, 5, 10, Poids = 'uniform' & Poids = 'distance'"
   ]
  },
  {
   "cell_type": "code",
   "execution_count": 80,
   "metadata": {},
   "outputs": [],
   "source": [
    "for n_neigh in (3, 5, 10):\n",
    "\n",
    "    clf = KNeighborsClassifier(n_neighbors=n_neigh, weights='uniform')\n",
    "\n",
    "    clf = clf.fit(Xg_train, Yg_train)\n",
    "    Y_pred = clf.predict(Xg_test)\n",
    "\n",
    "    acc = accuracy_score(Yg_test, Y_pred)\n",
    "    f1 = f1_score(Yg_test, Y_pred, average='weighted') \n",
    "\n",
    "    gKNN_acc_uniform.append(acc)\n",
    "    gKNN_f1_uniform.append(f1)\n",
    "\n",
    "\n",
    "    clf = KNeighborsClassifier(n_neighbors=n_neigh, weights='distance')\n",
    "    clf = clf.fit(Xg_train, Yg_train)\n",
    "    Y_pred = clf.predict(Xg_test)\n",
    "\n",
    "    acc = accuracy_score(Yg_test, Y_pred)\n",
    "    f1 = f1_score(Yg_test, Y_pred, average='weighted') \n",
    "\n",
    "    gKNN_acc_distance.append(acc)\n",
    "    gKNN_f1_distance.append(f1)"
   ]
  },
  {
   "cell_type": "markdown",
   "metadata": {},
   "source": [
    "#### KNN - Accuracy & F1 Scores"
   ]
  },
  {
   "cell_type": "code",
   "execution_count": 81,
   "metadata": {},
   "outputs": [
    {
     "data": {
      "image/png": "[encoded data removed]",
      "text/plain": [
       "<Figure size 432x288 with 1 Axes>"
      ]
     },
     "metadata": {
      "needs_background": "light"
     },
     "output_type": "display_data"
    }
   ],
   "source": [
    "for i, label in zip(range(0, 3), (3, 5, 10)):\n",
    "    plt.plot(gKNN_acc_uniform[i], gKNN_f1_uniform[i], \"o\", label='K = {}, poids = \"uniform\"'.format(label))\n",
    "    plt.plot(gKNN_acc_distance[i], gKNN_f1_distance[i], \"o\", label='K = {}, poids = \"distance\"'.format(label))\n",
    "plt.xlabel(\"Accuracy\")\n",
    "plt.ylabel(\"F1 Score\")\n",
    "plt.legend(loc='upper left')\n",
    "plt.xlim([0.5, 0.6])\n",
    "plt.ylim([0.5, 0.6])\n",
    "plt.show()"
   ]
  },
  {
   "cell_type": "markdown",
   "metadata": {},
   "source": [
    "#### KNN - Cross-validation\n",
    "Nous obtenons de meilleurs résultats lorsque K = 10 et que le poids est uniforme. Nous allons donc faire la validation croisée avec ces hyperparamètres."
   ]
  },
  {
   "cell_type": "code",
   "execution_count": 82,
   "metadata": {},
   "outputs": [
    {
     "name": "stdout",
     "output_type": "stream",
     "text": [
      "[0.58865248 0.57446809 0.57362507 0.54405677 0.56771141 0.56002365\n",
      " 0.5556213  0.58047337 0.5556213  0.57159763]\n",
      "0.5671851089912532\n"
     ]
    }
   ],
   "source": [
    "nfold = 10\n",
    "clf = KNeighborsClassifier(n_neighbors=10, weights='uniform')\n",
    "gKNN_scores = cross_val_score(clf, X_galaxy, Y_galaxy, cv=nfold)\n",
    "print (gKNN_scores)\n",
    "print(sum(gKNN_scores)/nfold)"
   ]
  },
  {
   "cell_type": "code",
   "execution_count": 83,
   "metadata": {},
   "outputs": [
    {
     "name": "stdout",
     "output_type": "stream",
     "text": [
      "              precision    recall  f1-score   support\n",
      "\n",
      "           0       0.60      0.54      0.57      1811\n",
      "           1       0.53      0.59      0.56      1571\n",
      "\n",
      "   micro avg       0.56      0.56      0.56      3382\n",
      "   macro avg       0.56      0.56      0.56      3382\n",
      "weighted avg       0.57      0.56      0.56      3382\n",
      "\n",
      "[[980 831]\n",
      " [647 924]]\n"
     ]
    }
   ],
   "source": [
    "clf = KNeighborsClassifier(n_neighbors=10, weights='uniform')\n",
    "clf = clf.fit(Xg_train, Yg_train)\n",
    "Y_pred = clf.predict(Xg_test)\n",
    "CM = confusion_matrix(Y_pred, Yg_test)\n",
    "\n",
    "print(classification_report(Y_pred,Yg_test))\n",
    "print(CM)"
   ]
  },
  {
   "cell_type": "markdown",
   "metadata": {},
   "source": [
    "### Bayes\n",
    "#### Loi Gaussienne (normale)"
   ]
  },
  {
   "cell_type": "code",
   "execution_count": 84,
   "metadata": {},
   "outputs": [
    {
     "name": "stdout",
     "output_type": "stream",
     "text": [
      "Précision : 0.797752808988764\n",
      "Score F1 : 0.797131047668415\n"
     ]
    }
   ],
   "source": [
    "clf = GaussianNB()\n",
    "clf.fit(Xg_train, Yg_train)\n",
    "Y_pred = clf.predict(Xg_test)\n",
    "\n",
    "ggauss_acc = accuracy_score(Yg_test, Y_pred)\n",
    "ggauss_f1 = f1_score(Yg_test, Y_pred, average='weighted') \n",
    "\n",
    "print(\"Précision : {}\".format(ggauss_acc))\n",
    "print(\"Score F1 : {}\".format(ggauss_f1))"
   ]
  },
  {
   "cell_type": "markdown",
   "metadata": {},
   "source": [
    "#### Loi Multinomiale"
   ]
  },
  {
   "cell_type": "code",
   "execution_count": 85,
   "metadata": {},
   "outputs": [],
   "source": [
    "scaler = preprocessing.MinMaxScaler()\n",
    "Xg_scaled = scaler.fit_transform(X_galaxy)\n",
    "Xg_train, Xg_test, Yg_train, Yg_test = train_test_split(Xg_scaled, Y_galaxy, test_size=0.20, random_state=42, stratify=Y_galaxy)"
   ]
  },
  {
   "cell_type": "markdown",
   "metadata": {},
   "source": [
    "Recherche de l'hyperparametre alpha pour la loi multinomiale"
   ]
  },
  {
   "cell_type": "code",
   "execution_count": 86,
   "metadata": {},
   "outputs": [
    {
     "name": "stdout",
     "output_type": "stream",
     "text": [
      "1.5789473684210527\n"
     ]
    }
   ],
   "source": [
    "NBParamGrid=dict(alpha=np.linspace(0,2,20)[1:])\n",
    "paramsearch = GridSearchCV(estimator=MultinomialNB(), param_grid=NBParamGrid, n_jobs=6,cv=10)\n",
    "paramsearch.fit(Xg_train, Yg_train)\n",
    "selected_alpha = paramsearch.best_estimator_.alpha\n",
    "print(selected_alpha)"
   ]
  },
  {
   "cell_type": "markdown",
   "metadata": {},
   "source": [
    "La meilleure valeur de alpha est 1.578 et sera utilisee par la suite pour la validation"
   ]
  },
  {
   "cell_type": "markdown",
   "metadata": {},
   "source": [
    "#### Bayes - Loi multinomiale - avec holdout validation"
   ]
  },
  {
   "cell_type": "code",
   "execution_count": 87,
   "metadata": {},
   "outputs": [
    {
     "name": "stdout",
     "output_type": "stream",
     "text": [
      "Précision : 0.7897693672383205\n",
      "Score F1 : 0.789556798757904\n"
     ]
    }
   ],
   "source": [
    "clf = MultinomialNB(alpha=selected_alpha)\n",
    "clf.fit(Xg_train, Yg_train)\n",
    "Y_pred = clf.predict(Xg_test)\n",
    "\n",
    "gmulti_acc = accuracy_score(Yg_test, Y_pred)\n",
    "gmulti_f1 = f1_score(Yg_test, Y_pred, average='weighted') \n",
    "\n",
    "print(\"Précision : {}\".format(gmulti_acc))\n",
    "print(\"Score F1 : {}\".format(gmulti_f1))"
   ]
  },
  {
   "cell_type": "markdown",
   "metadata": {},
   "source": [
    "#### Bayes - Loi multinomiale - avec validation croisee"
   ]
  },
  {
   "cell_type": "code",
   "execution_count": 88,
   "metadata": {},
   "outputs": [
    {
     "name": "stdout",
     "output_type": "stream",
     "text": [
      "0.7938833220883036\n"
     ]
    }
   ],
   "source": [
    "K = 10\n",
    "clf = MultinomialNB(alpha=selected_alpha)\n",
    "scores = cross_val_score(clf, Xg_scaled, Y_galaxy, cv= K)\n",
    "print(sum(scores)/K)"
   ]
  },
  {
   "cell_type": "markdown",
   "metadata": {},
   "source": [
    "test de classification pour la loi multinomiale avec les features calculees dans le TP1 en plus"
   ]
  },
  {
   "cell_type": "code",
   "execution_count": 89,
   "metadata": {},
   "outputs": [
    {
     "name": "stdout",
     "output_type": "stream",
     "text": [
      "0.7942978729443076\n"
     ]
    }
   ],
   "source": [
    "K = 10\n",
    "clf = MultinomialNB(alpha=selected_alpha)\n",
    "XgTP1_scaled = scaler.fit_transform(X_galaxy_TP1_1)\n",
    "gmulti_scores = cross_val_score(clf, XgTP1_scaled, Y_galaxy, cv= K)\n",
    "print(sum(gmulti_scores)/K)"
   ]
  },
  {
   "cell_type": "markdown",
   "metadata": {},
   "source": [
    "Lien utile : http://scikit-learn.org/stable/auto_examples/svm/plot_rbf_parameters.html"
   ]
  },
  {
   "cell_type": "markdown",
   "metadata": {},
   "source": [
    "## Question 1\n",
    "### Méthode de création des ensembles de données\n",
    "Nous avons essentiellement utilisé les méthodes de la librairie Scikitlearn pour créer nos ensembles de données. Nous utilisons train_test_split pour entrainer des algorithmes avec des validations en holdout, et cross_val_score pour des entrainements avec K fold cross validation. Cette librairie nous offre des moyens simples d'utilisation pour générer des ensembles de tailles pré-déterminée et mélangés pour simuler des conditions au plus proche d'un cas d'utilisation réelle compte tenu de nos données."
   ]
  },
  {
   "cell_type": "markdown",
   "metadata": {},
   "source": [
    "## Question 2\n",
    "### Approche de validation proposée et justification\n",
    "Nous avons choisi de pratiquer des K fold cross validations pour valider la totalité de nos apprentissages car nous pensons que c'est le meilleur compromis parmi K flod CV, leave one out, leave P out et holdout. En effet il nous permet de tester suffisamment de cas de figures d'entrainements pour être confiant sur l'apprentissage suffisamment général par rapport à holdout mais sans pour autant être aussi gourmand en ressources que leave one out ou leave P out."
   ]
  },
  {
   "cell_type": "markdown",
   "metadata": {},
   "source": [
    "## Question 3\n",
    "### Matrice des expérimentations\n"
   ]
  },
  {
   "cell_type": "code",
   "execution_count": 93,
   "metadata": {},
   "outputs": [
    {
     "data": {
      "text/markdown": [
       "|Données|Pourriels|Galaxies|\n",
       "|-------|---------|--------|\n",
       "|Arbre de décision d=3|Acc = 0.8985507246376812, F1 = 0.897740031205263|None|\n",
       "|Arbre de décision d=5|Acc = 0.9003623188405797, F1 = 0.8990733553257645|None|\n",
       "|Arbre de décision d=10|Acc = 0.9148550724637681, F1 = 0.9145412111165964|None|\n",
       "|Arbre de décision d=None|Acc = 0.907608695652174, F1 = 0.9075014092624848|None|\n",
       "|Arbre de décision 10-CV|0.9170187069248442|None|\n",
       "|3-NN Uniform|Acc = 0.8188405797101449, F1 = 0.818407660148391|Acc = 0.5467179183914843, F1 = 0.546580009350169|\n",
       "|3-NN Distance|Acc = 0.8297101449275363, F1 = 0.8297101449275363|Acc = 0.539030159668835, F1 = 0.538831071662403|\n",
       "|5-NN Uniform|Acc = 0.8079710144927537, F1 = 0.807347603796286|Acc = 0.5582495564754583, F1 = 0.5580209973466429|\n",
       "|5-NN Distance|Acc = 0.8242753623188406, F1 = 0.8242086503869479|Acc = 0.5408042578356003, F1 = 0.5405746872272853|\n",
       "|10-NN Uniform|Acc = 0.7844202898550725, F1 = 0.7813752527940205|Acc = 0.5629804849201656, F1 = 0.5625866823342862|\n",
       "|10-NN Distance|Acc = 0.8278985507246377, F1 = 0.8275590465636746|Acc = 0.560615020697812, F1 = 0.5598099126473268|\n",
       "|3-NN Distance 10-CV|0.8029222185756482|0.5671851089912532|\n",
       "|Bayes Gaussian|Acc = 0.8387681159420289, F1 = 0.8402037805334562|Acc = 0.797752808988764, F1 = 0.797131047668415|\n",
       "|Bayes Multinomial|Acc = 0.9094202898550725, F1 = 0.9076189451243262|Acc = 0.7897693672383205, F1 = 0.789556798757904|\n",
       "|Bayes Multinomial 10-CV|0.898148999015425|0.7942978729443076|\n"
      ],
      "text/plain": [
       "<IPython.core.display.Markdown object>"
      ]
     },
     "execution_count": 93,
     "metadata": {},
     "output_type": "execute_result"
    }
   ],
   "source": [
    "Markdown(\"\"\"|Données|Pourriels|Galaxies|\n",
    "|-------|---------|--------|\n",
    "|Arbre de décision d=3|Acc = {0}, F1 = {1}|None|\n",
    "|Arbre de décision d=5|Acc = {2}, F1 = {3}|None|\n",
    "|Arbre de décision d=10|Acc = {4}, F1 = {5}|None|\n",
    "|Arbre de décision d=None|Acc = {6}, F1 = {7}|None|\n",
    "|Arbre de décision 10-CV|{8}|None|\n",
    "|3-NN Uniform|Acc = {9}, F1 = {10}|Acc = {11}, F1 = {12}|\n",
    "|3-NN Distance|Acc = {13}, F1 = {14}|Acc = {15}, F1 = {16}|\n",
    "|5-NN Uniform|Acc = {17}, F1 = {18}|Acc = {19}, F1 = {20}|\n",
    "|5-NN Distance|Acc = {21}, F1 = {22}|Acc = {23}, F1 = {24}|\n",
    "|10-NN Uniform|Acc = {25}, F1 = {26}|Acc = {27}, F1 = {28}|\n",
    "|10-NN Distance|Acc = {29}, F1 = {30}|Acc = {31}, F1 = {32}|\n",
    "|3-NN Distance 10-CV|{33}|{34}|\n",
    "|Bayes Gaussian|Acc = {35}, F1 = {36}|Acc = {37}, F1 = {38}|\n",
    "|Bayes Multinomial|Acc = {39}, F1 = {40}|Acc = {41}, F1 = {42}|\n",
    "|Bayes Multinomial 10-CV|{43}|{44}|\n",
    "\"\"\".format(sthree_acc[1], sthree_f1[1], sthree_acc[2], sthree_f1[2], sthree_acc[3], sthree_f1[3], sthree_acc[0], sthree_f1[0], \n",
    "           sum(sthree_CV_scores)/10, sKNN_acc_uniform[0], sKNN_f1_uniform[0], gKNN_acc_uniform[0], gKNN_f1_uniform[0], \n",
    "           sKNN_acc_distance[0], sKNN_f1_distance[0], gKNN_acc_distance[0], gKNN_f1_distance[0], \n",
    "           sKNN_acc_uniform[1], sKNN_f1_uniform[1], gKNN_acc_uniform[1], gKNN_f1_uniform[1], \n",
    "           sKNN_acc_distance[1], sKNN_f1_distance[1], gKNN_acc_distance[1], gKNN_f1_distance[1],\n",
    "           sKNN_acc_uniform[2], sKNN_f1_uniform[2], gKNN_acc_uniform[2], gKNN_f1_uniform[2], \n",
    "           sKNN_acc_distance[2], sKNN_f1_distance[2], gKNN_acc_distance[2], gKNN_f1_distance[2],\n",
    "           sum(sKNN_scores)/10, sum(gKNN_scores)/nfold,\n",
    "           sgauss_acc, sgauss_f1, ggauss_acc, ggauss_f1,\n",
    "           smulti_acc, smulti_f1, gmulti_acc, gmulti_f1,\n",
    "           sum(smulti_scores)/10, sum(gmulti_scores)/K))"
   ]
  },
  {
   "cell_type": "markdown",
   "metadata": {},
   "source": [
    "### Etude des hyperparamètres\n",
    "\n",
    "#### Arbres de décision  \n",
    "D'après nos données,ne pas limiter la profondeur de l'abre créee un sur-apprentissage,il est donc préférable de limiter celle-ci.Pour les 3 valeurs testées ,plus la profondeur de l'arbre est élevée, plus la précision et les scores F1 sont élevés.\n",
    "Le gain d'information et donc la pureté de nos ensembles de données s'améliore en augmentant cette profondeur.Dans le cas des données de spams,Une profondeur de 10 ne semble pas causer de sur-apprentissage et permet d'obtenir les meilleurs résultats avec un F1 score de 0.9185.Cependant avec une prodondeur de 5 le F1 score est assez proche 0.90759 et dependemment de l'application que l'on souhaite mettre en place il faudra prendre en compte la complexité de le l'arbre et une profondeur de 5 semble etre un bon compromis complexité/performance.\n",
    "\n",
    "#### KNN  \n",
    "`poids = uniform` veut dire que la pondération de chaque voisin est uniforme et ne dépend pas de la distance au point.\n",
    "L'option `poids = distance` pondère différement chaque voisin pour la décision de l'algorithme KNN.Cette pondération est inversement proportionnelle a la distance au point a classifier.\n",
    "La distance utilisee est celle par defaut donc ‘minkowski’ avec p=2 ce qui equivaut a la distance Euclidienne.\n",
    "\n",
    "Dans le cas des spams, les meilleurs hyperparamètres sont : `nombre de voisins = 3` et `poids = distance`. Nous pouvons expliquer cela par le fait que lorsque k est trop grand,le biais est important et on risque un sous-apprentissage.K=3 semble etre un bon compromis biais/variance sans introduire de sur-apprentissage. La performance de cet algorithme est egalement a prendre en compte car la pondération par distance introduit de la lenteur dans l'exécution O(nd+nk).\n",
    "\n",
    "De plus, nous pouvons remarquer que lorsque l'hyperparamètre du poids est égal à $distance$, les résultats sont significativement meilleurs. En effet, les voisins les plus proches aideront à mieux discriminer le point étudié.\n",
    "\n",
    "Dans la Classification des Galaxies et donc des images , K=10 uniforme permet d'obtenir les meilleurs resultats de score F1 (0.567) mais ce modele ne semble pas adapté a ce jeu de données.\n",
    "\n",
    "#### Bayes \n",
    "\n",
    "Deux hypothèses de distributions ont été etudiées dans ce travail ,la loi normale et la distribution  multinomiale.Pour cette dernière,il s'agit d'une généralistion de la loi de Bernouilli (succès de n épreuves) pour des variables de nature catégorielle (discrètes) comme c'est le cas pour le spam ou les galaxies.\n",
    "\n",
    "L'imppact de l'hyperparamètre alpha a été évalue pour cette distribution pour la classifiaction de galaxies.alpha est un hyperparamètre de lissage pour les variables catégorielles.\n",
    "\n",
    "\n",
    "Le meilleur résultat pour l'algorithme de Bayes naïf est lorsque celui-ci la distribution est multinomiale, avec les hyperparamètres `MinMaxScaler` et la `K-Bins discretization`.   \n",
    "\n",
    "D'après la définition de Scikit-learn, `MinMaxScaler` transforme les primitives () en les mettant à l'échelle entre 0 et 1. Cela permet de minimiser les différences d'échelle entre les différents attributs. (Ex : un attribut entre 0 et 1000 et un attribut entre 0 et 1).\n",
    "\n",
    "`KBinsDiscretizer` permet de discrétiser les attributs continus que nous avons en entrée. Cela permet de réduire les différences entre les différentes valeurs que peut prendre l'attribut, ce qui permet de mieux les regrouper entre eux.\n",
    "\n",
    "#### forêts aléatoires (random forest)\n",
    "\n",
    "Les hyperparamètres pour le modele random forest ont été determinés avec une recherche par grille.La profondeur des arbres (max_depth) est un hyperparamètre a considerer ainsi que le nombre d'arbres (n_estimators).La profondeur maximale utilisée est 20 avec 30 arbres."
   ]
  },
  {
   "cell_type": "markdown",
   "metadata": {},
   "source": [
    "## Question 4\n",
    "### Impact de la taille des ensembles de données sur la performance de classification\n",
    "\n",
    "D'après nos différentes analyses, les ensembles de données qui se démarquent le mieux sont ceux sont les attributs sont discrétisés. En effet, comme expliqué précédemment, cela permet de regrouper un ensemble de valeurs différentes ensemble. Pour ce qui est de la taille des ensembles de données, nous avons beaucoup moins d'exemples pour les spams que pour les galaxies. Cependant, le cas des spams donne des erreurs beaucoup plus faibles que le cas des galaxies. Nous pouvons expliquer cela par le fait que les primitives de Spam sont plus discriminantes que celles des galaxies. Nous pouvons donc déduire de ces exemples que la taille des ensembles des données n'aide pas forcément à une meilleure classification des données. En effet, la qualité des primitives joue un rôle principal dans les classifications. Cependant, lorsque les privitives discriminent bien les données, il est évident qu'un nombre plus important d'exemples d'apprentissage va favoriser une meilleure classification des données."
   ]
  },
  {
   "cell_type": "markdown",
   "metadata": {},
   "source": [
    "## Question 5\n",
    "### Impact du bruit dans les ensembles de données sur la performance de classification"
   ]
  },
  {
   "cell_type": "markdown",
   "metadata": {},
   "source": [
    "On sait que les données extraites de l'analyse des images de galaxies sont plus bruitées que celles extraites des courriels. Par conscéquent en testant chaque classifieur avec les mêmes hyperparamètres pour nos deux problématiques de classification.\n",
    "Etant donné que nous avons déja constaté que les résultats des arbres de classification n'étaient pas très bons, nous pouvons conclure que ce type de classification est très sensible au bruit. D'ailleurs, pour la classification des coourriels, on obtient un score de plus de 90% comparé au 75% pour les galaxies dans le lab précédent.\n",
    "\n",
    "D'après les observations des résultas de KNN, il semblerait que ce classifieur soit encore plus sensible au bruit que les arbres de classification.\n",
    "\n",
    "D'un autre côté les classifieurs naïfs guassiens ou multinomiaux semblent mooin sensibles au bruit mais n'améliorent pas la classification d'un ensemble peu bruité comparé aux résultats obtenus dans KNN ou par arbres de décision avec les courriels."
   ]
  },
  {
   "cell_type": "markdown",
   "metadata": {},
   "source": [
    "## Question 6\n",
    "### Discussion sur la nature des données\n",
    "\n",
    "Les données `Spam` sont extraites de différents mails, qui sont eux même composés d'une série de mots. Les données `Galaxy` sont quant à elles des images. Il est clairement plus difficile d'extraire de bonnes primitives sur des images que sur un texte simple. En effet, il faut tout d'abord effectuer plusieurs pré-traitements sur les images pour pouvoir extraire des données qui ne sont pas complètement sûres, par rapport à un nombre d'enchainement de mots écrits en majuscule dans un texte par exemple.  \n",
    "C'est pourquoi nous arrivons mieux à classifier les mails en Spam que les différents types de galaxies."
   ]
  },
  {
   "cell_type": "markdown",
   "metadata": {},
   "source": [
    "## Question 7\n",
    "### Recommandations\n",
    "\n",
    "Après avoir compris nos résultats, nous pensons pouvoir conclure sur des pratiques qui nous semblent pertinentes en fonction des données qui nous sont proposées.\n",
    "Tout d'abord, lorsque nous avons affaire à des images il semble essentiel de discrétiser les caractéristiques de sorte à réduire l'impact du bruit sur la décision. Cela semble être un traitement qui va dans le sens de la généralisation de l'apprentissage. Les features une fois discrétisées sont dès lors adaptées à des méthodes de classification Bayésiennes telles que des classifieurs Gaussiens ou Multinomiaux.\n",
    "\n",
    "Pour des données moins bruitées il nous semble qu'aucune technique de classification ne prévale au vu de nos résultats, cependant nous savons que toutes les techniques ne sont pas aussi gourmandes en ressources mémoire ou temps de calcul. Partant de ce constat, les méthodes KNN sont trop gourmandes (et aussi légèrement moins précises) et donc à éviter si possible."
   ]
  },
  {
   "cell_type": "markdown",
   "metadata": {},
   "source": [
    "## Question 8\n",
    "### Améliorations possibles\n",
    "\n"
   ]
  }
 ],
 "metadata": {
  "kernelspec": {
   "display_name": "Python [default]",
   "language": "python",
   "name": "python3"
  },
  "language_info": {
   "codemirror_mode": {
    "name": "ipython",
    "version": 3
   },
   "file_extension": ".py",
   "mimetype": "text/x-python",
   "name": "python",
   "nbconvert_exporter": "python",
   "pygments_lexer": "ipython3",
   "version": "3.6.6"
  }
 },
 "nbformat": 4,
 "nbformat_minor": 2
}
