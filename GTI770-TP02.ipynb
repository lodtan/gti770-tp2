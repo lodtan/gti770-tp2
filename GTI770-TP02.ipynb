{
 "cells": [
  {
   "cell_type": "markdown",
   "metadata": {},
   "source": [
    "# Laboratoire 2 : Arbre de désision, Bayes naïf et KNN\n",
    "#### Département du génie logiciel et des technologies de l’information\n",
    "\n",
    "| Étudiants             | LEMARCHANT HUGO - LEMH03039705 * TAN ELODIE - TANE25619607 * JACQUES-SYLVAIN LECOINTRE LECJ19128301 |\n",
    "|-----------------------|---------------------------------------------------------|\n",
    "| Cours                 | GTI770 - Systèmes intelligents et apprentissage machine |\n",
    "| Session               | Automne 2018                                            |\n",
    "| Groupe                | C                                                       |\n",
    "| Numéro du laboratoire | 02                                                      |\n",
    "| Professeur            | Prof. Hervé Lombaert                                    |\n",
    "| Chargé de laboratoire | Pierre-Luc Delisle                                      |\n",
    "| Date                  | 11/10/2018                                              |"
   ]
  },
  {
   "cell_type": "code",
   "execution_count": 419,
   "metadata": {},
   "outputs": [],
   "source": [
    "# -*- coding:utf-8 -*-\n",
    "import numpy as np\n",
    "import cv2\n",
    "import matplotlib.pyplot as plt\n",
    "import sys\n",
    "import os, random\n",
    "import math\n",
    "import collections\n",
    "from sklearn import tree\n",
    "from sklearn.ensemble import RandomForestClassifier\n",
    "from sklearn.model_selection import train_test_split, cross_val_score\n",
    "import scipy.ndimage as nd\n",
    "import csv\n",
    "import pandas as pd\n",
    "from sklearn.metrics import accuracy_score, classification_report, confusion_matrix\n",
    "from sklearn.neighbors import KNeighborsClassifier\n",
    "from sklearn.naive_bayes import GaussianNB\n",
    "from sklearn.naive_bayes import MultinomialNB\n",
    "from sklearn import preprocessing\n",
    "from sklearn.preprocessing import KBinsDiscretizer\n",
    "from sklearn.metrics import accuracy_score, f1_score\n",
    "from sklearn.model_selection import LeaveOneOut\n",
    "from sklearn.model_selection import GridSearchCV"
   ]
  },
  {
   "cell_type": "markdown",
   "metadata": {},
   "source": [
    "## Spam"
   ]
  },
  {
   "cell_type": "code",
   "execution_count": 380,
   "metadata": {},
   "outputs": [
    {
     "data": {
      "text/plain": [
       "57\n",
       "0    0.599638\n",
       "1    0.400362\n",
       "Name: 0, dtype: float64"
      ]
     },
     "execution_count": 380,
     "metadata": {},
     "output_type": "execute_result"
    }
   ],
   "source": [
    "df = pd.read_csv('spam.csv', delimiter = ',', header=None)\n",
    "X_mail = df.loc[:, 0:56].values\n",
    "Y_mail = df.loc[:, 57].values\n",
    "\n",
    "Xm_train, Xm_test, Ym_train, Ym_test = train_test_split(X_mail, Y_mail, test_size=0.20, random_state=42, stratify=Y_mail)\n",
    "df.groupby(57).count()[0].divide(df.shape[0])"
   ]
  },
  {
   "cell_type": "markdown",
   "metadata": {},
   "source": [
    "La repartition des donnees montre environ 60% de courriels 'non spam' et 40% de courriels 'spam' comme indique dans l'enonce"
   ]
  },
  {
   "cell_type": "markdown",
   "metadata": {},
   "source": [
    "La repartition des classes (60% => 0 40% => 1) dans les ensembles de données est bien respectée comme demontré ci-dessous :"
   ]
  },
  {
   "cell_type": "code",
   "execution_count": 378,
   "metadata": {},
   "outputs": [
    {
     "name": "stdout",
     "output_type": "stream",
     "text": [
      "Repartition des donnees dans l'emsemble d'entrainement : [(0, 1324), (1, 884)]\n",
      "Repartition des donnees dans l'emsemble d'test :[(0, 331), (1, 221)]\n"
     ]
    }
   ],
   "source": [
    "print('Repartition des donnees dans l\\'emsemble d\\'entrainement : {0}'.format(collections.Counter(Ym_train).most_common(2)))\n",
    "print('Repartition des donnees dans l\\'emsemble d\\'test :{0}'.format(collections.Counter(Ym_test).most_common(2)))"
   ]
  },
  {
   "cell_type": "markdown",
   "metadata": {},
   "source": [
    "### Arbres de décision"
   ]
  },
  {
   "cell_type": "markdown",
   "metadata": {},
   "source": [
    "#### Max-depth : None , 3, 5, 10"
   ]
  },
  {
   "cell_type": "code",
   "execution_count": 405,
   "metadata": {
    "collapsed": true
   },
   "outputs": [],
   "source": [
    "accuracies = []\n",
    "f1_scores = []\n",
    "\n",
    "for depth in (None,3, 5, 10):\n",
    "    clf = tree.DecisionTreeClassifier(max_depth=depth)\n",
    "    clf = clf.fit(Xm_train, Ym_train)\n",
    "    Y_pred = clf.predict(Xm_test)\n",
    "\n",
    "    acc = accuracy_score(Ym_test, Y_pred)\n",
    "    f1 = f1_score(Ym_test, Y_pred, average='weighted') \n",
    "\n",
    "    accuracies.append(acc)\n",
    "    f1_scores.append(f1)"
   ]
  },
  {
   "cell_type": "markdown",
   "metadata": {},
   "source": [
    "### Arbres de décision - Accuracy & F1 Score"
   ]
  },
  {
   "cell_type": "code",
   "execution_count": 406,
   "metadata": {},
   "outputs": [
    {
     "data": {
      "image/png": "[encoded data removed]",
      "text/plain": [
       "<Figure size 432x288 with 1 Axes>"
      ]
     },
     "metadata": {},
     "output_type": "display_data"
    }
   ],
   "source": [
    "for i, label in zip(range(0, 4), (0, 3, 5, 10)):\n",
    "    plt.plot(accuracies[i], f1_scores[i], \"o\", label='max-depth = {}'.format(label))\n",
    "plt.xlabel(\"Accuracy\")\n",
    "plt.ylabel(\"F1 Score\")\n",
    "plt.legend(loc='upper left')\n",
    "plt.xlim([0.75, 1])\n",
    "plt.ylim([0.75, 1])\n",
    "plt.show()"
   ]
  },
  {
   "cell_type": "markdown",
   "metadata": {},
   "source": [
    "### Arbres de décision - Cross validation\n",
    "\n",
    "D'après le graphique des Accuracy et F1 scores, on se rend compte que le meilleur hyperparamètre pour les arbres de décision pour Spam est `max-depth = 10.` La Validation croisee sera donce effectuee avec l'hyperparamètre `max-depth = 10.` ."
   ]
  },
  {
   "cell_type": "code",
   "execution_count": 470,
   "metadata": {},
   "outputs": [
    {
     "name": "stdout",
     "output_type": "stream",
     "text": [
      "max_depth : 5 F1 score: 0.9068710206760748\n",
      "max_depth : 10 F1 score: 0.917013455858221\n"
     ]
    }
   ],
   "source": [
    "K = 10\n",
    "for md in [5,10]:\n",
    "    clf = tree.DecisionTreeClassifier(max_depth = md)\n",
    "    scores = cross_val_score(clf, X_mail, Y_mail, cv= K)\n",
    "    print('max_depth : {0} F1 score: {1}'.format(md,sum(scores)/K))"
   ]
  },
  {
   "cell_type": "markdown",
   "metadata": {},
   "source": [
    "### KNN \n",
    "#### K = 3, 5, 10, Poids = 'uniform' & Poids = 'distance'"
   ]
  },
  {
   "cell_type": "code",
   "execution_count": 408,
   "metadata": {
    "collapsed": true
   },
   "outputs": [],
   "source": [
    "accuracies_uniform = []\n",
    "f1_scores_uniform = []\n",
    "\n",
    "accuracies_distance = []\n",
    "f1_scores_distance = []"
   ]
  },
  {
   "cell_type": "code",
   "execution_count": 409,
   "metadata": {
    "collapsed": true
   },
   "outputs": [],
   "source": [
    "for n_neigh in (3, 5, 10):\n",
    "    clf = KNeighborsClassifier(n_neighbors = n_neigh, weights='uniform')\n",
    "\n",
    "    clf = clf.fit(Xm_train, Ym_train)\n",
    "    Y_pred = clf.predict(Xm_test)\n",
    "\n",
    "    acc = accuracy_score(Ym_test, Y_pred)\n",
    "    f1 = f1_score(Ym_test, Y_pred, average='weighted') \n",
    "\n",
    "    accuracies_uniform.append(acc)\n",
    "    f1_scores_uniform.append(f1)\n",
    "\n",
    "\n",
    "    clf = KNeighborsClassifier(n_neighbors = n_neigh, weights='distance')\n",
    "    clf = clf.fit(Xm_train, Ym_train)\n",
    "    Y_pred = clf.predict(Xm_test)\n",
    "\n",
    "    acc = accuracy_score(Ym_test, Y_pred)\n",
    "    f1 = f1_score(Ym_test, Y_pred, average='weighted') \n",
    "\n",
    "    accuracies_distance.append(acc)\n",
    "    f1_scores_distance.append(f1)"
   ]
  },
  {
   "cell_type": "markdown",
   "metadata": {},
   "source": [
    "### KNN - Accuracy & F1 Scores"
   ]
  },
  {
   "cell_type": "code",
   "execution_count": 438,
   "metadata": {},
   "outputs": [
    {
     "data": {
      "image/png": "[encoded data removed]",
      "text/plain": [
       "<Figure size 432x288 with 1 Axes>"
      ]
     },
     "metadata": {},
     "output_type": "display_data"
    }
   ],
   "source": [
    "for i, label in zip(range(0, 3), (3, 5, 10)):\n",
    "    plt.plot(accuracies_uniform[i], f1_scores_uniform[i], \"o\", label='K = {}, poids = \"uniform\"'.format(label))\n",
    "    plt.plot(accuracies_distance[i], f1_scores_distance[i], \"o\", label='K = {}, poids = \"distance\"'.format(label))\n",
    "plt.xlabel(\"Accuracy\")\n",
    "plt.ylabel(\"F1 Score\")\n",
    "plt.legend(loc='upper left')\n",
    "plt.xlim([0.75, 1])\n",
    "plt.ylim([0.75, 1])\n",
    "plt.show()"
   ]
  },
  {
   "cell_type": "markdown",
   "metadata": {},
   "source": [
    "### KNN - Cross-validation"
   ]
  },
  {
   "cell_type": "markdown",
   "metadata": {},
   "source": [
    "D'après le graphique des Accuracy et F1 scores, on se rend compte que le hyperparamètre K pour Spam est `K = 3` La Validation croisee sera donce effectuee avec l'hyperparamètre `K=3` ."
   ]
  },
  {
   "cell_type": "code",
   "execution_count": 435,
   "metadata": {},
   "outputs": [
    {
     "name": "stdout",
     "output_type": "stream",
     "text": [
      "0.8029222185756482\n"
     ]
    }
   ],
   "source": [
    "K = 10\n",
    "clf = KNeighborsClassifier(n_neighbors=3, weights='distance')\n",
    "scores = cross_val_score(clf, X_mail, Y_mail, cv= K)\n",
    "print(sum(scores)/K)"
   ]
  },
  {
   "cell_type": "markdown",
   "metadata": {},
   "source": [
    "### Bayes Naive\n",
    "#### Distribution Gaussienne"
   ]
  },
  {
   "cell_type": "markdown",
   "metadata": {},
   "source": [
    "hold out validation"
   ]
  },
  {
   "cell_type": "code",
   "execution_count": 414,
   "metadata": {},
   "outputs": [
    {
     "name": "stdout",
     "output_type": "stream",
     "text": [
      "Précision : 0.8387681159420289\n",
      "Score F1 : 0.8402037805334562\n"
     ]
    }
   ],
   "source": [
    "clf = GaussianNB()\n",
    "clf.fit(Xm_train, Ym_train)\n",
    "Y_pred = clf.predict(Xm_test)\n",
    "\n",
    "acc_gauss = accuracy_score(Ym_test, Y_pred)\n",
    "f1_gauss = f1_score(Ym_test, Y_pred, average='weighted') \n",
    "\n",
    "print(\"Précision : {}\".format(acc_gauss))\n",
    "print(\"Score F1 : {}\".format(f1_gauss))"
   ]
  },
  {
   "cell_type": "markdown",
   "metadata": {},
   "source": [
    "validation croisee"
   ]
  },
  {
   "cell_type": "code",
   "execution_count": 415,
   "metadata": {},
   "outputs": [
    {
     "name": "stdout",
     "output_type": "stream",
     "text": [
      "0.8122848703642929\n"
     ]
    }
   ],
   "source": [
    "K = 10\n",
    "clf = GaussianNB()\n",
    "scores = cross_val_score(clf, X_mail, Y_mail, cv=K)\n",
    "print(sum(scores)/K)"
   ]
  },
  {
   "cell_type": "markdown",
   "metadata": {},
   "source": [
    "#### Distribution  Multinomiale"
   ]
  },
  {
   "cell_type": "markdown",
   "metadata": {},
   "source": [
    "validation hold out"
   ]
  },
  {
   "cell_type": "code",
   "execution_count": 416,
   "metadata": {},
   "outputs": [
    {
     "name": "stdout",
     "output_type": "stream",
     "text": [
      "Précision : 0.9094202898550725\n",
      "Score F1 : 0.9076189451243262\n"
     ]
    }
   ],
   "source": [
    "est = KBinsDiscretizer(n_bins=3, encode='ordinal', strategy='uniform')\n",
    "est.fit(X_mail) \n",
    "\n",
    "scaler = preprocessing.MinMaxScaler()\n",
    "Xm_scaled = scaler.fit_transform(X_mail)\n",
    "\n",
    "Xm_train, Xm_test, Ym_train, Ym_test = train_test_split(Xm_scaled, Y_mail, test_size=0.20, random_state=42, stratify=Y_mail)\n",
    "\n",
    "clf = MultinomialNB()\n",
    "clf.fit(Xm_train, Ym_train)\n",
    "Y_pred = clf.predict(Xm_test)\n",
    "\n",
    "acc_multi = accuracy_score(Ym_test, Y_pred)\n",
    "f1_multi = f1_score(Ym_test, Y_pred, average='weighted') \n",
    "\n",
    "print(\"Précision : {}\".format(acc_multi))\n",
    "print(\"Score F1 : {}\".format(f1_multi))\n"
   ]
  },
  {
   "cell_type": "markdown",
   "metadata": {},
   "source": [
    "Bayes - distribution multionomiale - validation croisee"
   ]
  },
  {
   "cell_type": "code",
   "execution_count": 417,
   "metadata": {},
   "outputs": [
    {
     "name": "stdout",
     "output_type": "stream",
     "text": [
      "0.898148999015425\n"
     ]
    }
   ],
   "source": [
    "K = 10\n",
    "clf = MultinomialNB()\n",
    "scores = cross_val_score(clf, Xm_scaled, Y_mail, cv= K)\n",
    "print(sum(scores)/K)"
   ]
  },
  {
   "cell_type": "markdown",
   "metadata": {},
   "source": [
    "### forêts aléatoires (random forest)"
   ]
  },
  {
   "cell_type": "code",
   "execution_count": 473,
   "metadata": {},
   "outputs": [
    {
     "name": "stdout",
     "output_type": "stream",
     "text": [
      "Fitting 10 folds for each of 64 candidates, totalling 640 fits\n"
     ]
    },
    {
     "name": "stderr",
     "output_type": "stream",
     "text": [
      "[Parallel(n_jobs=-1)]: Using backend LokyBackend with 4 concurrent workers.\n",
      "[Parallel(n_jobs=-1)]: Done  33 tasks      | elapsed:    3.5s\n",
      "[Parallel(n_jobs=-1)]: Done 154 tasks      | elapsed:   19.9s\n",
      "[Parallel(n_jobs=-1)]: Done 357 tasks      | elapsed:  1.0min\n",
      "[Parallel(n_jobs=-1)]: Done 640 out of 640 | elapsed:  2.3min finished\n"
     ]
    },
    {
     "data": {
      "text/plain": [
       "GridSearchCV(cv=10, error_score='raise-deprecating',\n",
       "       estimator=RandomForestClassifier(bootstrap=True, class_weight=None, criterion='gini',\n",
       "            max_depth=None, max_features='auto', max_leaf_nodes=None,\n",
       "            min_impurity_decrease=0.0, min_impurity_split=None,\n",
       "            min_samples_leaf=1, min_samples_split=2,\n",
       "            min_weight_fraction_leaf=0.0, n_estimators='warn', n_jobs=None,\n",
       "            oob_score=False, random_state=None, verbose=0,\n",
       "            warm_start=False),\n",
       "       fit_params=None, iid='warn', n_jobs=-1,\n",
       "       param_grid={'max_depth': [3, 5, 10, 20, 30, 40, 50, 100], 'n_estimators': [10, 20, 30, 40, 50, 100, 200, 300]},\n",
       "       pre_dispatch='2*n_jobs', refit=True, return_train_score='warn',\n",
       "       scoring=None, verbose=2)"
      ]
     },
     "execution_count": 473,
     "metadata": {},
     "output_type": "execute_result"
    }
   ],
   "source": [
    "param_grid = {\n",
    "    'max_depth': [3,5,10,20,30,40,50,100],\n",
    "    'n_estimators': [10,20,30,40,50,100,200,300]\n",
    "}\n",
    "\n",
    "grid_search = GridSearchCV(estimator =  RandomForestClassifier(), param_grid = param_grid, cv = 10, n_jobs = -1, verbose = 2)\n",
    "grid_search.fit(Xm_train, Ym_train)"
   ]
  },
  {
   "cell_type": "code",
   "execution_count": 474,
   "metadata": {},
   "outputs": [
    {
     "name": "stdout",
     "output_type": "stream",
     "text": [
      "Précision : 0.9547101449275363\n",
      "Score F1 : 0.9545826862353577\n"
     ]
    }
   ],
   "source": [
    "clf=RandomForestClassifier(n_estimators=grid_search.best_params_['n_estimators'],max_depth=grid_search.best_params_['max_depth'])\n",
    "clf.fit(Xm_train,Ym_train)\n",
    "Y_pred = clf.predict(Xm_test)\n",
    "acc_multi = accuracy_score(Ym_test, Y_pred)\n",
    "f1_multi = f1_score(Ym_test, Y_pred, average='weighted') \n",
    "print(\"Précision : {}\".format(acc_multi))\n",
    "print(\"Score F1 : {}\".format(f1_multi))"
   ]
  },
  {
   "cell_type": "code",
   "execution_count": 475,
   "metadata": {},
   "outputs": [
    {
     "name": "stdout",
     "output_type": "stream",
     "text": [
      "0.9384370015948962\n"
     ]
    }
   ],
   "source": [
    "scores = cross_val_score(clf, Xm_test, Ym_test, cv= K)\n",
    "print(sum(scores)/K)"
   ]
  },
  {
   "cell_type": "markdown",
   "metadata": {},
   "source": [
    "## Analyse de galaxies\n",
    "\n",
    "Nous n'avons pas utilisé la recherche par grille pour les données Spam, mais nous allons l'utiliser ici pour définir les meilleurs hyperparamètres pour l'algorithme des K-plus proches voisins. Nous aurions pu l'utiliser dans les cas précédents mais cela ne change rien en terme de résultats purs."
   ]
  },
  {
   "cell_type": "code",
   "execution_count": 478,
   "metadata": {
    "collapsed": true
   },
   "outputs": [],
   "source": [
    "feature_vectors = pd.read_csv('galaxy_feature_vectors.csv', delimiter = ',', header=None)\n",
    "labels = pd.read_csv('galaxy_label_data_set.csv', delimiter = ',')\n",
    "X_galaxy = pd.read_csv('galaxy_feature_vectors.csv', delimiter = ',', header=None).values[:,0:-1]\n",
    "Y_galaxy = pd.read_csv('galaxy_feature_vectors.csv', delimiter = ',', header=None).values[:,-1:].astype(int).flatten()\n",
    "Xg_train, Xg_test, Yg_train, Yg_test = train_test_split(X_galaxy, Y_galaxy, test_size=0.20, random_state=42, stratify=Y_galaxy)"
   ]
  },
  {
   "cell_type": "markdown",
   "metadata": {},
   "source": [
    "##### Utilisons les caracteristiques du TP1 dans le vecteur d'entree (qu'est ce qui garanti que l'ordre des observations de galaxy_feature_vectors.csv soit le meme que celles du TP1 ? )"
   ]
  },
  {
   "cell_type": "code",
   "execution_count": 491,
   "metadata": {},
   "outputs": [],
   "source": [
    "X_galaxy_TP1 = pd.read_csv('vectors_TP1.csv', delimiter = ',').values[:,0:2]\n",
    "# utilisons uniquement circularite et aspect ratio ratio\n",
    "X_galaxy_TP1_1= np.concatenate([X_galaxy,X_galaxy_TP1[:,0:2]],axis=1)\n",
    "Xgtp1_train, Xgtp1_test, Ygtp1_train, Ygtp1_test = train_test_split(X_galaxy_TP1_1, Y_galaxy, test_size=0.20, random_state=42, stratify=Y_galaxy)"
   ]
  },
  {
   "cell_type": "code",
   "execution_count": 26,
   "metadata": {},
   "outputs": [
    {
     "name": "stdout",
     "output_type": "stream",
     "text": [
      "{'n_neighbors': 5, 'weights': 'uniform'}\n"
     ]
    }
   ],
   "source": [
    "Nous observons une incoherennce dans les classes de sortie entre 'galaxy_feature_vectors.csv' et 'galaxy_label_data_set.csv' comme le montre le print ci-dessous :"
   ]
  },
  {
   "cell_type": "code",
   "execution_count": 421,
   "metadata": {},
   "outputs": [
    {
     "name": "stdout",
     "output_type": "stream",
     "text": [
      "0    1.0\n",
      "1    0.0\n",
      "2    0.0\n",
      "3    0.0\n",
      "4    0.0\n",
      "5    1.0\n",
      "Name: 75, dtype: float64\n",
      "       id   class\n",
      "0  100090  smooth\n",
      "1  100134  spiral\n",
      "2  100322  spiral\n",
      "3  100380  spiral\n",
      "4  100458  smooth\n",
      "5  100479  smooth\n"
     ]
    }
   ],
   "source": [
    "print(pd.read_csv('galaxy_feature_vectors.csv', delimiter = ',', header=None)[75].head(6))\n",
    "print(labels.head(6)) "
   ]
  },
  {
   "cell_type": "markdown",
   "metadata": {},
   "source": [
    "### KNN "
   ]
  },
  {
   "cell_type": "code",
   "execution_count": 422,
   "metadata": {
    "collapsed": true
   },
   "outputs": [],
   "source": [
    "galaxy_accuracies_uniform = []\n",
    "galaxy_f1_scores_uniform = []\n",
    "\n",
    "galaxy_accuracies_distance = []\n",
    "galaxy_f1_scores_distance = []"
   ]
  },
  {
   "cell_type": "markdown",
   "metadata": {},
   "source": [
    "parameters = {'weights':('uniform', 'distance'), 'n_neighbors':[3, 5, 10]}\n",
    "\n",
    "knn = KNeighborsClassifier()\n",
    "\n",
    "clf = GridSearchCV(knn, parameters, cv=10)\n",
    "clf.fit(X_galaxy, Y_galaxy)\n",
    "\n",
    "print(clf.best_params_)"
   ]
  },
  {
   "cell_type": "markdown",
   "metadata": {},
   "source": [
    "#### K = 3, 5, 10, Poids = 'uniform' & Poids = 'distance'"
   ]
  },
  {
   "cell_type": "code",
   "execution_count": 423,
   "metadata": {},
   "outputs": [],
   "source": [
    "for n_neigh in (3, 5, 10):\n",
    "\n",
    "    clf = KNeighborsClassifier(n_neighbors=n_neigh, weights='uniform')\n",
    "\n",
    "    clf = clf.fit(Xg_train, Yg_train)\n",
    "    Y_pred = clf.predict(Xg_test)\n",
    "\n",
    "    acc = accuracy_score(Yg_test, Y_pred)\n",
    "    f1 = f1_score(Yg_test, Y_pred, average='weighted') \n",
    "\n",
    "    galaxy_accuracies_uniform.append(acc)\n",
    "    galaxy_f1_scores_uniform.append(f1)\n",
    "\n",
    "\n",
    "    clf = KNeighborsClassifier(n_neighbors=n_neigh, weights='distance')\n",
    "    clf = clf.fit(Xg_train, Yg_train)\n",
    "    Y_pred = clf.predict(Xg_test)\n",
    "\n",
    "    acc = accuracy_score(Yg_test, Y_pred)\n",
    "    f1 = f1_score(Yg_test, Y_pred, average='weighted') \n",
    "\n",
    "    galaxy_accuracies_distance.append(acc)\n",
    "    galaxy_f1_scores_distance.append(f1)"
   ]
  },
  {
   "cell_type": "markdown",
   "metadata": {},
   "source": [
    "#### KNN - Accuracy & F1 Scores"
   ]
  },
  {
   "cell_type": "code",
   "execution_count": 440,
   "metadata": {},
   "outputs": [
    {
     "data": {
      "image/png": "[encoded data removed]",
      "text/plain": [
       "<Figure size 432x288 with 1 Axes>"
      ]
     },
     "metadata": {},
     "output_type": "display_data"
    }
   ],
   "source": [
    "for i, label in zip(range(0, 3), (3, 5, 10)):\n",
    "    plt.plot(galaxy_accuracies_uniform[i], galaxy_f1_scores_uniform[i], \"o\", label='K = {}, poids = \"uniform\"'.format(label))\n",
    "    plt.plot(galaxy_accuracies_distance[i], galaxy_f1_scores_distance[i], \"o\", label='K = {}, poids = \"distance\"'.format(label))\n",
    "plt.xlabel(\"Accuracy\")\n",
    "plt.ylabel(\"F1 Score\")\n",
    "plt.legend(loc='upper left')\n",
    "plt.xlim([0.5, 0.7])\n",
    "plt.ylim([0.5, 0.7])\n",
    "plt.show()\n",
    "print(galaxy_accuracies_uniform)\n",
    "print(galaxy_f1_scores_uniform)\n",
    "print(galaxy_accuracies_distance)\n",
    "print(galaxy_f1_scores_distance)"
   ]
  },
  {
   "cell_type": "markdown",
   "metadata": {},
   "source": [
    "#### KNN - Cross-validation\n",
    "Nous obtenons de meilleurs résultats lorsque K = 10 et que le poids est uniforme. Nous allons donc faire la validation croisée avec ces hyperparamètres."
   ]
  },
  {
   "cell_type": "code",
   "execution_count": 441,
   "metadata": {},
   "outputs": [
    {
     "name": "stdout",
     "output_type": "stream",
     "text": [
      "[0.58865248 0.57446809 0.57362507 0.54405677 0.56771141 0.56002365\n",
      " 0.5556213  0.58047337 0.5556213  0.57159763]\n",
      "0.5671851089912532\n"
     ]
    }
   ],
   "source": [
    "nfold = 10\n",
    "clf = KNeighborsClassifier(n_neighbors=10, weights='uniform')\n",
    "scores = cross_val_score(clf, X_galaxy, Y_galaxy, cv=nfold)\n",
    "print (scores)\n",
    "print(sum(scores)/nfold)"
   ]
  },
  {
   "cell_type": "code",
   "execution_count": 282,
   "metadata": {},
   "outputs": [
    {
     "name": "stdout",
     "output_type": "stream",
     "text": [
      "              precision    recall  f1-score   support\n",
      "\n",
      "           0       0.94      0.89      0.91      1731\n",
      "           1       0.89      0.94      0.91      1651\n",
      "\n",
      "   micro avg       0.91      0.91      0.91      3382\n",
      "   macro avg       0.91      0.91      0.91      3382\n",
      "weighted avg       0.91      0.91      0.91      3382\n",
      "\n",
      "[[1532  199]\n",
      " [  95 1556]]\n"
     ]
    }
   ],
   "source": [
    "clf = KNeighborsClassifier(n_neighbors=10, weights='uniform')\n",
    "clf = clf.fit(Xg_train, Yg_train)\n",
    "Y_pred = clf.predict(Xg_test)\n",
    "CM = confusion_matrix(Y_pred, Yg_test)\n",
    "\n",
    "print(classification_report(Y_pred,Yg_test))\n",
    "print(CM)"
   ]
  },
  {
   "cell_type": "markdown",
   "metadata": {},
   "source": [
    "### Bayes\n",
    "#### Loi Gaussienne (normale)"
   ]
  },
  {
   "cell_type": "code",
   "execution_count": 210,
   "metadata": {},
   "outputs": [
    {
     "name": "stdout",
     "output_type": "stream",
     "text": [
      "Précision : 0.6088113542282673\n",
      "Score F1 : 0.5562405046055754\n"
     ]
    }
   ],
   "source": [
    "clf = GaussianNB()\n",
    "clf.fit(Xg_train, Yg_train)\n",
    "Y_pred = clf.predict(Xg_test)\n",
    "\n",
    "acc_gauss = accuracy_score(Yg_test, Y_pred)\n",
    "f1_gauss = f1_score(Yg_test, Y_pred, average='weighted') \n",
    "\n",
    "print(\"Précision : {}\".format(acc_gauss))\n",
    "print(\"Score F1 : {}\".format(f1_gauss))"
   ]
  },
  {
   "cell_type": "markdown",
   "metadata": {},
   "source": [
    "#### Loi Multinomiale"
   ]
  },
  {
   "cell_type": "code",
   "execution_count": 260,
   "metadata": {
    "collapsed": true
   },
   "outputs": [],
   "source": [
    "scaler = preprocessing.MinMaxScaler()\n",
    "Xg_scaled = scaler.fit_transform(X_galaxy)\n",
    "Xg_train, Xg_test, Yg_train, Yg_test = train_test_split(Xg_scaled, Y_galaxy, test_size=0.20, random_state=42, stratify=Y_galaxy)"
   ]
  },
  {
   "cell_type": "markdown",
   "metadata": {},
   "source": [
    "Recherche de l'hyperparametre alpha pour la loi multinomiale"
   ]
  },
  {
   "cell_type": "code",
   "execution_count": 261,
   "metadata": {},
   "outputs": [
    {
     "name": "stdout",
     "output_type": "stream",
     "text": [
      "1.5789473684210527\n"
     ]
    }
   ],
   "source": [
    "NBParamGrid=dict(alpha=np.linspace(0,2,20)[1:])\n",
    "paramsearch = GridSearchCV(estimator=MultinomialNB(), param_grid=NBParamGrid, n_jobs=6,cv=10)\n",
    "paramsearch.fit(Xg_train, Yg_train)\n",
    "selected_alpha = paramsearch.best_estimator_.alpha\n",
    "print(selected_alpha)"
   ]
  },
  {
   "cell_type": "markdown",
   "metadata": {},
   "source": [
    "La meilleure valeur de alpha est 1.578 et sera utilisee par la suite pour la validation"
   ]
  },
  {
   "cell_type": "markdown",
   "metadata": {},
   "source": [
    "#### Bayes - Loi multinomiale - avec holdout validation"
   ]
  },
  {
   "cell_type": "code",
   "execution_count": 271,
   "metadata": {},
   "outputs": [
    {
     "name": "stdout",
     "output_type": "stream",
     "text": [
      "Précision : 0.7897693672383205\n",
      "Score F1 : 0.789556798757904\n"
     ]
    }
   ],
   "source": [
    "clf = MultinomialNB(alpha=selected_alpha)\n",
    "clf.fit(Xg_train, Yg_train)\n",
    "Y_pred = clf.predict(Xg_test)\n",
    "\n",
    "acc_multi = accuracy_score(Yg_test, Y_pred)\n",
    "f1_multi = f1_score(Yg_test, Y_pred, average='weighted') \n",
    "\n",
    "print(\"Précision : {}\".format(acc_multi))\n",
    "print(\"Score F1 : {}\".format(f1_multi))"
   ]
  },
  {
   "cell_type": "markdown",
   "metadata": {},
   "source": [
    "#### Bayes - Loi multinomiale - avec validation croisee"
   ]
  },
  {
   "cell_type": "code",
   "execution_count": 497,
   "metadata": {},
   "outputs": [
    {
     "name": "stdout",
     "output_type": "stream",
     "text": [
      "0.7938833220883036\n"
     ]
    }
   ],
   "source": [
    "K = 10\n",
    "clf = MultinomialNB(alpha=selected_alpha)\n",
    "scores = cross_val_score(clf, Xg_scaled, Y_galaxy, cv= K)\n",
    "print(sum(scores)/K)"
   ]
  },
  {
   "cell_type": "markdown",
   "metadata": {},
   "source": [
    "test de classification pour la loi multinomiale avec les features calculees dans le TP1 en plus"
   ]
  },
  {
   "cell_type": "code",
   "execution_count": 506,
   "metadata": {},
   "outputs": [
    {
     "name": "stdout",
     "output_type": "stream",
     "text": [
      "0.7942978729443076\n"
     ]
    }
   ],
   "source": [
    "K = 10\n",
    "clf = MultinomialNB(alpha=selected_alpha)\n",
    "XgTP1_scaled = scaler.fit_transform(X_galaxy_TP1_1)\n",
    "scores = cross_val_score(clf, XgTP1_scaled, Y_galaxy, cv= K)\n",
    "print(sum(scores)/K)"
   ]
  },
  {
   "cell_type": "markdown",
   "metadata": {},
   "source": [
    "Lien utile : http://scikit-learn.org/stable/auto_examples/svm/plot_rbf_parameters.html"
   ]
  },
  {
   "cell_type": "markdown",
   "metadata": {},
   "source": [
    "## Question 1\n",
    "### Méthode de création des ensembles de données\n",
    "Nous avons essentiellement utilisé les méthodes de la librairie Scikitlearn pour créer nos ensembles de données. Nous utilisons train_test_split pour entrainer des algorithmes avec des validations en holdout, et cross_val_score pour des entrainements avec K fold cross validation. Cette librairie nous offre des moyens simples d'utilisation pour générer des ensembles de tailles pré-déterminée et mélangés pour simuler des conditions au plus proche d'un cas d'utilisation réelle compte tenu de nos données."
   ]
  },
  {
   "cell_type": "markdown",
   "metadata": {},
   "source": [
    "## Question 1\n",
    "### Détails des ensembles produits\n"
   ]
  },
  {
   "cell_type": "markdown",
   "metadata": {},
   "source": [
    "## Question 2\n",
    "### Approche de validation proposée et justification\n",
    "Nous avons choisi de pratiquer des K fold cross validations pour valider la totalité de nos apprentissages car nous pensons que c'est le meilleur compromis parmi K flod CV, leave one out, leave P out et holdout. En effet il nous permet de tester suffisamment de cas de figures d'entrainements pour être confiant sur l'apprentissage suffisamment général par rapport à holdout mais sans pour autant être aussi gourmand en ressources que leave one out ou leave P out."
   ]
  },
  {
   "cell_type": "markdown",
   "metadata": {},
   "source": [
    "## Question 3\n",
    "### Matrice des expérimentations\n",
    "\n",
    "|Données|Pourriels|Galaxies|\n",
    "|-------|---------|--------|\n",
    "|Arbre de décision d=3|Acc = 0.8983, F1 = 0.8975|None|\n",
    "|Arbre de décision d=5|Acc = 0.9000, F1 = 0.8990|None|\n",
    "|Arbre de décision d=10|Acc = 0.9155, F1 = 0.9145|None|\n",
    "|Arbre de décision d=inf|Acc = 0.9133, F1 = 0.9130|None|\n",
    "|Arbre de décision 10-CV|0.9098|None|\n",
    "|3-NN Uniform|Acc = 0.82, F1 = 0.82|Acc = 0.4982, F1 = 0.4981|\n",
    "|3-NN Distance|Acc = 0.83, F1 = 0.83|Acc = 0.5023, F1 = 0.5023|\n",
    "|5-NN Uniform|Acc = 0.809, F1 = 0.809|Acc = 0.5127, F1 = 0.5126|\n",
    "|5-NN Distance|Acc = 0.825, F1 = 0.825|Acc = 0.4985, F1 = 0.4986|\n",
    "|10-NN Uniform|Acc = 0.783, F1 = 0.782|Acc = 0.4943, F1 = 0.4915|\n",
    "|10-NN Distance|Acc = 0.828, F1 = 0.828|Acc = 0.4943, F1 = 0.4941|\n",
    "|3-NN Distance 10-CV|0.8029|0.5044|\n",
    "|Bayes Gaussian|Acc = 0.826, F1 = 0.828|Acc = 0.5147, F1 = 0.4504|\n",
    "|Bayes Multinomial|Acc = 0.9094, F1 = 0.9076|Acc = 0.9094, F1 = 0.9076|\n",
    "|Bayes Multinomial 10-CV|0.0898|0.8981|\n",
    "\n"
   ]
  },
  {
   "cell_type": "markdown",
   "metadata": {},
   "source": [
    "### Etude des hyperparamètres\n",
    "\n",
    "#### Arbres de décision  \n",
    "D'après nos données,ne pas limiter la profondeur de l'abre créee un sur-apprentissage,il est donc préférable de limiter celle-ci.Pour les 3 valeurs testées ,plus la profondeur de l'arbre est élevée, plus la précision et les scores F1 sont élevés.\n",
    "Le gain d'information et donc la pureté de nos ensembles de données s'améliore en augmentant cette profondeur.Dans le cas des données de spams,Une profondeur de 10 ne semble pas causer de sur-apprentissage et permet d'obtenir les meilleurs résultats avec un F1 score de 0.9185.Cependant avec une prodondeur de 5 le F1 score est assez proche 0.90759 et dependemment de l'application que l'on souhaite mettre en place il faudra prendre en compte la complexité de le l'arbre et une profondeur de 5 semble etre un bon compromis complexité/performance.\n",
    "\n",
    "#### KNN  \n",
    "`poids = uniform` veut dire que la pondération de chaque voisin est uniforme et ne dépend pas de la distance au point.\n",
    "L'option `poids = distance` pondère différement chaque voisin pour la décision de l'algorithme KNN.Cette pondération est inversement proportionnelle a la distance au point a classifier.\n",
    "La distance utilisee est celle par defaut donc ‘minkowski’ avec p=2 ce qui equivaut a la distance Euclidienne.\n",
    "\n",
    "Dans le cas des spams, les meilleurs hyperparamètres sont : `nombre de voisins = 3` et `poids = distance`. Nous pouvons expliquer cela par le fait que lorsque k est trop grand,le biais est important et on risque un sous-apprentissage.K=3 semble etre un bon compromis biais/variance sans introduire de sur-apprentissage. La performance de cet algorithme est egalement a prendre en compte car la pondération par distance introduit de la lenteur dans l'exécution O(nd+nk).\n",
    "\n",
    "De plus, nous pouvons remarquer que lorsque l'hyperparamètre du poids est égal à $distance$, les résultats sont significativement meilleurs. En effet, les voisins les plus proches aideront à mieux discriminer le point étudié.\n",
    "\n",
    "Dans la Classification des Galaxies et donc des images , K=10 uniforme permet d'obtenir les meilleurs resultats de score F1 (0.567) mais ce modele ne semble pas adapté a ce jeu de données.\n",
    "\n",
    "#### Bayes \n",
    "\n",
    "Deux hypothèses de distributions ont été etudiées dans ce travail ,la loi normale et la distribution  multinomiale.Pour cette dernière,il s'agit d'une généralistion de la loi de Bernouilli (succès de n épreuves) pour des variables de nature catégorielle (discrètes) comme c'est le cas pour le spam ou les galaxies.\n",
    "\n",
    "L'imppact de l'hyperparamètre alpha a été évalue pour cette distribution pour la classifiaction de galaxies.alpha est un hyperparamètre de lissage pour les variables catégorielles.\n",
    "\n",
    "\n",
    "Le meilleur résultat pour l'algorithme de Bayes naïf est lorsque celui-ci la distribution est multinomiale, avec les hyperparamètres `MinMaxScaler` et la `K-Bins discretization`.   \n",
    "\n",
    "D'après la définition de Scikit-learn, `MinMaxScaler` transforme les primitives () en les mettant à l'échelle entre 0 et 1. Cela permet de minimiser les différences d'échelle entre les différents attributs. (Ex : un attribut entre 0 et 1000 et un attribut entre 0 et 1).\n",
    "\n",
    "`KBinsDiscretizer` permet de discrétiser les attributs continus que nous avons en entrée. Cela permet de réduire les différences entre les différentes valeurs que peut prendre l'attribut, ce qui permet de mieux les regrouper entre eux.\n",
    "\n",
    "#### forêts aléatoires (random forest)\n",
    "\n",
    "Les hyperparamètres pour le modele random forest ont été determinés avec une recherche par grille.La profondeur des arbres (max_depth) est un hyperparamètre a considerer ainsi que le nombre d'arbres (n_estimators).La profondeur maximale utilisée est 20 avec 30 arbres."
   ]
  },
  {
   "cell_type": "markdown",
   "metadata": {},
   "source": [
    "## Question 4\n",
    "### Impact de la taille des ensembles de données sur la performance de classification\n",
    "\n",
    "D'après nos différentes analyses, les ensembles de données qui se démarquent le mieux sont ceux sont les attributs sont discrétisés. En effet, comme expliqué précédemment, cela permet de regrouper un ensemble de valeurs différentes ensemble. Pour ce qui est de la taille des ensembles de données, nous avons beaucoup moins d'exemples pour les spams que pour les galaxies. Cependant, le cas des spams donne des erreurs beaucoup plus faibles que le cas des galaxies. Nous pouvons expliquer cela par le fait que les primitives de Spam sont plus discriminantes que celles des galaxies. Nous pouvons donc déduire de ces exemples que la taille des ensembles des données n'aide pas forcément à une meilleure classification des données. En effet, la qualité des primitives joue un rôle principal dans les classifications. Cependant, lorsque les privitives discriminent bien les données, il est évident qu'un nombre plus important d'exemples d'apprentissage va favoriser une meilleure classification des données."
   ]
  },
  {
   "cell_type": "markdown",
   "metadata": {},
   "source": [
    "## Question 5\n",
    "### Impact du bruit dans les ensembles de données sur la performance de classification"
   ]
  },
  {
   "cell_type": "markdown",
   "metadata": {},
   "source": [
    "Les courriels se pretent bien a un classiffieur de type arbre de decision ou encore mieux forets aleatoires.Naive Bayes avec une distribution multinomiale est egalement un bon classificateur.Cette distribution discrete se prete bien a ces donnees."
   ]
  },
  {
   "cell_type": "markdown",
   "metadata": {},
   "source": [
    "## Question 6\n",
    "### Discussion sur la nature des données\n",
    "\n",
    "Les données `Spam` sont extraites de différents mails, qui sont eux même composés d'une série de mots. Les données `Galaxy` sont quant à elles des images. Il est clairement plus difficile d'extraire de bonnes primitives sur des images que sur un texte simple. En effet, il faut tout d'abord effectuer plusieurs pré-traitements sur les images pour pouvoir extraire des données qui ne sont pas complètement sûres, par rapport à un nombre d'enchainement de mots écrits en majuscule dans un texte par exemple.  \n",
    "C'est pourquoi nous arrivons mieux à classifier les mails en Spam que les différents types de galaxies."
   ]
  },
  {
   "cell_type": "markdown",
   "metadata": {},
   "source": [
    "## Question 7\n",
    "### Recommandations"
   ]
  },
  {
   "cell_type": "markdown",
   "metadata": {},
   "source": [
    "## Question 8\n",
    "### Améliorations possibles"
   ]
  }
 ],
 "metadata": {
  "kernelspec": {
   "display_name": "Python 3",
   "language": "python",
   "name": "python3"
  },
  "language_info": {
   "codemirror_mode": {
    "name": "ipython",
    "version": 3
   },
   "file_extension": ".py",
   "mimetype": "text/x-python",
   "name": "python",
   "nbconvert_exporter": "python",
   "pygments_lexer": "ipython3",
   "version": "3.6.6"
  }
 },
 "nbformat": 4,
 "nbformat_minor": 2
}
