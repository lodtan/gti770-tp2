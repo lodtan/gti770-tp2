{
 "cells": [
  {
   "cell_type": "markdown",
   "metadata": {},
   "source": [
    "# Laboratoire 2 : Arbre de désision, Bayes naïf et KNN\n",
    "#### Département du génie logiciel et des technologies de l’information\n",
    "\n",
    "| Étudiants             | LEMARCHANT HUGO - LEMH03039705 * TAN ELODIE - TANE25619607 * JACQUES-SYLVAIN LECOINTRE LECJ19128301 |\n",
    "|-----------------------|---------------------------------------------------------|\n",
    "| Cours                 | GTI770 - Systèmes intelligents et apprentissage machine |\n",
    "| Session               | Automne 2018                                            |\n",
    "| Groupe                | C                                                       |\n",
    "| Numéro du laboratoire | 02                                                      |\n",
    "| Professeur            | Prof. Hervé Lombaert                                    |\n",
    "| Chargé de laboratoire | Pierre-Luc Delisle                                      |\n",
    "| Date                  | 11/10/2018                                              |"
   ]
  },
  {
   "cell_type": "code",
   "execution_count": 107,
   "metadata": {},
   "outputs": [],
   "source": [
    "# -*- coding:utf-8 -*-\n",
    "import numpy as np\n",
    "import cv2\n",
    "import matplotlib.pyplot as plt\n",
    "import sys\n",
    "import os, random\n",
    "import math\n",
    "import collections\n",
    "from sklearn import tree\n",
    "from sklearn.ensemble import RandomForestClassifier\n",
    "from sklearn.model_selection import train_test_split, cross_val_score\n",
    "import scipy.ndimage as nd\n",
    "import csv\n",
    "import pandas as pd\n",
    "from sklearn.metrics import accuracy_score, classification_report, confusion_matrix\n",
    "from sklearn.neighbors import KNeighborsClassifier\n",
    "from sklearn.naive_bayes import GaussianNB\n",
    "from sklearn.naive_bayes import MultinomialNB\n",
    "from sklearn import preprocessing\n",
    "from sklearn.preprocessing import KBinsDiscretizer\n",
    "from sklearn.metrics import accuracy_score, f1_score\n",
    "from sklearn.model_selection import LeaveOneOut\n",
    "from sklearn.model_selection import GridSearchCV\n",
    "from IPython.display import Markdown"
   ]
  },
  {
   "cell_type": "markdown",
   "metadata": {},
   "source": [
    "## Spam"
   ]
  },
  {
   "cell_type": "code",
   "execution_count": 108,
   "metadata": {},
   "outputs": [
    {
     "data": {
      "text/plain": [
       "57\n",
       "0    0.599638\n",
       "1    0.400362\n",
       "Name: 0, dtype: float64"
      ]
     },
     "execution_count": 108,
     "metadata": {},
     "output_type": "execute_result"
    }
   ],
   "source": [
    "df = pd.read_csv('spam.csv', delimiter = ',', header=None)\n",
    "X_mail = df.loc[:, 0:56].values\n",
    "Y_mail = df.loc[:, 57].values\n",
    "\n",
    "Xm_train, Xm_test, Ym_train, Ym_test = train_test_split(X_mail, Y_mail, test_size=0.20, random_state=42, stratify=Y_mail)\n",
    "df.groupby(57).count()[0].divide(df.shape[0])"
   ]
  },
  {
   "cell_type": "markdown",
   "metadata": {},
   "source": [
    "La répartition des données montre environ 60% de courriels 'non spam' et 40% de courriels 'spam' comme indiqué dans l'énoncé."
   ]
  },
  {
   "cell_type": "markdown",
   "metadata": {},
   "source": [
    "La repartition des classes (60% => 0 | 40% => 1) dans les ensembles de données est bien respectée comme demontré ci-dessous :"
   ]
  },
  {
   "cell_type": "code",
   "execution_count": 109,
   "metadata": {},
   "outputs": [
    {
     "name": "stdout",
     "output_type": "stream",
     "text": [
      "Repartition des donnees dans l'emsemble d'entrainement : [(0, 1324), (1, 884)]\n",
      "Repartition des donnees dans l'emsemble de test :[(0, 331), (1, 221)]\n"
     ]
    }
   ],
   "source": [
    "print('Repartition des donnees dans l\\'emsemble d\\'entrainement : {0}'.format(collections.Counter(Ym_train).most_common(2)))\n",
    "print('Repartition des donnees dans l\\'emsemble de test :{0}'.format(collections.Counter(Ym_test).most_common(2)))"
   ]
  },
  {
   "cell_type": "markdown",
   "metadata": {},
   "source": [
    "### Arbres de décision"
   ]
  },
  {
   "cell_type": "markdown",
   "metadata": {},
   "source": [
    "#### Max-depth : None , 3, 5, 10"
   ]
  },
  {
   "cell_type": "code",
   "execution_count": 110,
   "metadata": {},
   "outputs": [],
   "source": [
    "sthree_acc = []\n",
    "sthree_f1 = []\n",
    "\n",
    "for depth in (None,3, 5, 10):\n",
    "    clf = tree.DecisionTreeClassifier(max_depth=depth)\n",
    "    clf = clf.fit(Xm_train, Ym_train)\n",
    "    Y_pred = clf.predict(Xm_test)\n",
    "\n",
    "    acc = accuracy_score(Ym_test, Y_pred)\n",
    "    f1 = f1_score(Ym_test, Y_pred, average='weighted') \n",
    "\n",
    "    sthree_acc.append(acc)\n",
    "    sthree_f1.append(f1)"
   ]
  },
  {
   "cell_type": "markdown",
   "metadata": {},
   "source": [
    "### Arbres de décision - Accuracy & F1 Score"
   ]
  },
  {
   "cell_type": "code",
   "execution_count": 111,
   "metadata": {},
   "outputs": [
    {
     "data": {
      "image/png": "[encoded data removed]",
      "text/plain": [
       "<Figure size 432x288 with 1 Axes>"
      ]
     },
     "metadata": {
      "needs_background": "light"
     },
     "output_type": "display_data"
    }
   ],
   "source": [
    "for i, label in zip(range(0, 4), (None, 3, 5, 10)):\n",
    "    plt.plot(sthree_acc[i], sthree_f1[i], \"o\", label='max-depth = {}'.format(label))\n",
    "plt.xlabel(\"Accuracy\")\n",
    "plt.ylabel(\"F1 Score\")\n",
    "plt.legend(loc='upper left')\n",
    "plt.xlim([0.85, 1])\n",
    "plt.ylim([0.85, 1])\n",
    "plt.show()"
   ]
  },
  {
   "cell_type": "markdown",
   "metadata": {},
   "source": [
    "### Arbres de décision - Cross validation\n",
    "\n",
    "D'après le graphique des $Accuracy$ et $F1 scores$, on se rend compte que le meilleur hyperparamètre pour les arbres de décision pour Spam est `max-depth = 10`. La validation croisée sera donc effectuée avec l'hyperparamètre `max-depth = 10`."
   ]
  },
  {
   "cell_type": "code",
   "execution_count": 112,
   "metadata": {},
   "outputs": [
    {
     "name": "stdout",
     "output_type": "stream",
     "text": [
      "max_depth : 5 F1 score: 0.9061463734821136\n",
      "max_depth : 10 F1 score: 0.9184627502461437\n"
     ]
    }
   ],
   "source": [
    "K = 10\n",
    "for md in [5,10]:\n",
    "    clf = tree.DecisionTreeClassifier(max_depth = md)\n",
    "    sthree_CV_scores = cross_val_score(clf, X_mail, Y_mail, cv= K)\n",
    "    print('max_depth : {0} F1 score: {1}'.format(md,sum(sthree_CV_scores)/K))"
   ]
  },
  {
   "cell_type": "markdown",
   "metadata": {},
   "source": [
    "### KNN \n",
    "#### K = 3, 5, 10, Poids = 'uniform' & Poids = 'distance'"
   ]
  },
  {
   "cell_type": "code",
   "execution_count": 113,
   "metadata": {},
   "outputs": [],
   "source": [
    "sKNN_acc_uniform = []\n",
    "sKNN_f1_uniform = []\n",
    "\n",
    "sKNN_acc_distance = []\n",
    "sKNN_f1_distance = []"
   ]
  },
  {
   "cell_type": "code",
   "execution_count": 114,
   "metadata": {},
   "outputs": [],
   "source": [
    "for n_neigh in (3, 5, 10):\n",
    "    clf = KNeighborsClassifier(n_neighbors = n_neigh, weights='uniform')\n",
    "\n",
    "    clf = clf.fit(Xm_train, Ym_train)\n",
    "    Y_pred = clf.predict(Xm_test)\n",
    "\n",
    "    acc = accuracy_score(Ym_test, Y_pred)\n",
    "    f1 = f1_score(Ym_test, Y_pred, average='weighted') \n",
    "\n",
    "    sKNN_acc_uniform.append(acc)\n",
    "    sKNN_f1_uniform.append(f1)\n",
    "\n",
    "\n",
    "    clf = KNeighborsClassifier(n_neighbors = n_neigh, weights='distance')\n",
    "    clf = clf.fit(Xm_train, Ym_train)\n",
    "    Y_pred = clf.predict(Xm_test)\n",
    "\n",
    "    acc = accuracy_score(Ym_test, Y_pred)\n",
    "    f1 = f1_score(Ym_test, Y_pred, average='weighted') \n",
    "\n",
    "    sKNN_acc_distance.append(acc)\n",
    "    sKNN_f1_distance.append(f1)"
   ]
  },
  {
   "cell_type": "markdown",
   "metadata": {},
   "source": [
    "### KNN - Accuracy & F1 Scores"
   ]
  },
  {
   "cell_type": "code",
   "execution_count": 115,
   "metadata": {},
   "outputs": [
    {
     "data": {
      "image/png": "[encoded data removed]",
      "text/plain": [
       "<Figure size 432x288 with 1 Axes>"
      ]
     },
     "metadata": {
      "needs_background": "light"
     },
     "output_type": "display_data"
    }
   ],
   "source": [
    "for i, label in zip(range(0, 3), (3, 5, 10)):\n",
    "    plt.plot(sKNN_acc_uniform[i], sKNN_f1_uniform[i], \"o\", label='K = {}, poids = \"uniform\"'.format(label))\n",
    "    plt.plot(sKNN_acc_distance[i], sKNN_f1_distance[i], \"o\", label='K = {}, poids = \"distance\"'.format(label))\n",
    "plt.xlabel(\"Accuracy\")\n",
    "plt.ylabel(\"F1 Score\")\n",
    "plt.legend(loc='upper left')\n",
    "plt.xlim([0.75, 1])\n",
    "plt.ylim([0.75, 1])\n",
    "plt.show()"
   ]
  },
  {
   "cell_type": "markdown",
   "metadata": {},
   "source": [
    "### KNN - Cross-validation"
   ]
  },
  {
   "cell_type": "markdown",
   "metadata": {},
   "source": [
    "D'après le graphique des Accuracy et F1 scores, on se rend compte que l'hyperparamètre `K` pour Spam est `K = 3` La validation croisée sera donc effectuée avec l'hyperparamètre `K = 3` et `poids = distance`."
   ]
  },
  {
   "cell_type": "code",
   "execution_count": 116,
   "metadata": {},
   "outputs": [
    {
     "name": "stdout",
     "output_type": "stream",
     "text": [
      "0.8029222185756482\n"
     ]
    }
   ],
   "source": [
    "fold = 10\n",
    "clf = KNeighborsClassifier(n_neighbors=3, weights='distance')\n",
    "sKNN_scores = cross_val_score(clf, X_mail, Y_mail, cv= K)\n",
    "print(sum(sKNN_scores)/K)"
   ]
  },
  {
   "cell_type": "markdown",
   "metadata": {},
   "source": [
    "### Bayes Naive\n",
    "#### Distribution Gaussienne"
   ]
  },
  {
   "cell_type": "markdown",
   "metadata": {},
   "source": [
    "##### Hold-out validation"
   ]
  },
  {
   "cell_type": "code",
   "execution_count": 117,
   "metadata": {},
   "outputs": [
    {
     "name": "stdout",
     "output_type": "stream",
     "text": [
      "Précision : 0.8387681159420289\n",
      "Score F1 : 0.8402037805334562\n"
     ]
    }
   ],
   "source": [
    "clf = GaussianNB()\n",
    "clf.fit(Xm_train, Ym_train)\n",
    "Y_pred = clf.predict(Xm_test)\n",
    "\n",
    "sgauss_acc = accuracy_score(Ym_test, Y_pred)\n",
    "sgauss_f1 = f1_score(Ym_test, Y_pred, average='weighted') \n",
    "\n",
    "print(\"Précision : {}\".format(sgauss_acc))\n",
    "print(\"Score F1 : {}\".format(sgauss_f1))"
   ]
  },
  {
   "cell_type": "markdown",
   "metadata": {},
   "source": [
    "##### 10-fold cross validation"
   ]
  },
  {
   "cell_type": "code",
   "execution_count": 118,
   "metadata": {},
   "outputs": [
    {
     "name": "stdout",
     "output_type": "stream",
     "text": [
      "0.8122848703642929\n"
     ]
    }
   ],
   "source": [
    "K = 10\n",
    "clf = GaussianNB()\n",
    "scores = cross_val_score(clf, X_mail, Y_mail, cv=K)\n",
    "print(sum(scores)/K)"
   ]
  },
  {
   "cell_type": "markdown",
   "metadata": {},
   "source": [
    "#### Distribution  Multinomiale"
   ]
  },
  {
   "cell_type": "markdown",
   "metadata": {},
   "source": [
    "#### Validation hold-out"
   ]
  },
  {
   "cell_type": "code",
   "execution_count": 119,
   "metadata": {},
   "outputs": [
    {
     "name": "stdout",
     "output_type": "stream",
     "text": [
      "Précision : 0.907608695652174\n",
      "Score F1 : 0.9081476031094811\n"
     ]
    }
   ],
   "source": [
    "est = KBinsDiscretizer(n_bins = 10, encode='ordinal')\n",
    "est.fit(X_mail) \n",
    "Xt_mail = est.transform(X_mail)\n",
    "\n",
    "scaler = preprocessing.MinMaxScaler()\n",
    "Xm_scaled = scaler.fit_transform(Xt_mail)\n",
    "\n",
    "Xm_train, Xm_test, Ym_train, Ym_test = train_test_split(Xm_scaled, Y_mail, test_size=0.20, random_state=42, stratify=Y_mail)\n",
    "\n",
    "clf = MultinomialNB()\n",
    "clf.fit(Xm_train, Ym_train)\n",
    "Y_pred = clf.predict(Xm_test)\n",
    "\n",
    "smulti_acc = accuracy_score(Ym_test, Y_pred)\n",
    "smulti_f1 = f1_score(Ym_test, Y_pred, average='weighted') \n",
    "\n",
    "print(\"Précision : {}\".format(smulti_acc))\n",
    "print(\"Score F1 : {}\".format(smulti_f1))\n"
   ]
  },
  {
   "cell_type": "markdown",
   "metadata": {},
   "source": [
    "##### Validation croisée"
   ]
  },
  {
   "cell_type": "code",
   "execution_count": 120,
   "metadata": {},
   "outputs": [
    {
     "name": "stdout",
     "output_type": "stream",
     "text": [
      "0.8804200853298326\n"
     ]
    }
   ],
   "source": [
    "K = 10\n",
    "clf = MultinomialNB()\n",
    "smulti_scores = cross_val_score(clf, Xm_scaled, Y_mail, cv= K)\n",
    "print(sum(smulti_scores)/K)"
   ]
  },
  {
   "cell_type": "markdown",
   "metadata": {},
   "source": [
    "### Forêts aléatoires (random forest)"
   ]
  },
  {
   "cell_type": "code",
   "execution_count": 121,
   "metadata": {},
   "outputs": [
    {
     "name": "stdout",
     "output_type": "stream",
     "text": [
      "Fitting 10 folds for each of 64 candidates, totalling 640 fits\n"
     ]
    },
    {
     "name": "stderr",
     "output_type": "stream",
     "text": [
      "[Parallel(n_jobs=-1)]: Using backend LokyBackend with 4 concurrent workers.\n",
      "[Parallel(n_jobs=-1)]: Done  33 tasks      | elapsed:    5.3s\n",
      "[Parallel(n_jobs=-1)]: Done 154 tasks      | elapsed:   17.3s\n",
      "[Parallel(n_jobs=-1)]: Done 357 tasks      | elapsed:   35.5s\n",
      "[Parallel(n_jobs=-1)]: Done 640 out of 640 | elapsed:  1.1min finished\n"
     ]
    },
    {
     "data": {
      "text/plain": [
       "GridSearchCV(cv=10, error_score='raise-deprecating',\n",
       "       estimator=RandomForestClassifier(bootstrap=True, class_weight=None, criterion='gini',\n",
       "            max_depth=None, max_features='auto', max_leaf_nodes=None,\n",
       "            min_impurity_decrease=0.0, min_impurity_split=None,\n",
       "            min_samples_leaf=1, min_samples_split=2,\n",
       "            min_weight_fraction_leaf=0.0, n_estimators='warn', n_jobs=None,\n",
       "            oob_score=False, random_state=None, verbose=0,\n",
       "            warm_start=False),\n",
       "       fit_params=None, iid='warn', n_jobs=-1,\n",
       "       param_grid={'n_estimators': [10, 20, 30, 40, 50, 100, 200, 300], 'max_depth': [3, 5, 10, 20, 30, 40, 50, 100]},\n",
       "       pre_dispatch='2*n_jobs', refit=True, return_train_score='warn',\n",
       "       scoring=None, verbose=2)"
      ]
     },
     "execution_count": 121,
     "metadata": {},
     "output_type": "execute_result"
    }
   ],
   "source": [
    "param_grid = {\n",
    "    'max_depth': [3,5,10,20,30,40,50,100],\n",
    "    'n_estimators': [10,20,30,40,50,100,200,300]\n",
    "}\n",
    "\n",
    "grid_search = GridSearchCV(estimator =  RandomForestClassifier(), param_grid = param_grid, cv = 10, n_jobs = -1, verbose = 2)\n",
    "grid_search.fit(Xm_train, Ym_train)"
   ]
  },
  {
   "cell_type": "code",
   "execution_count": 122,
   "metadata": {},
   "outputs": [
    {
     "name": "stdout",
     "output_type": "stream",
     "text": [
      "Précision : 0.9510869565217391\n",
      "Score F1 : 0.9508625112775351\n"
     ]
    }
   ],
   "source": [
    "clf = RandomForestClassifier(n_estimators=grid_search.best_params_['n_estimators'],max_depth=grid_search.best_params_['max_depth'])\n",
    "clf.fit(Xm_train,Ym_train)\n",
    "Y_pred = clf.predict(Xm_test)\n",
    "srandfor_acc = accuracy_score(Ym_test, Y_pred)\n",
    "srandfor_f1 = f1_score(Ym_test, Y_pred, average='weighted') \n",
    "print(\"Précision : {}\".format(srandfor_acc))\n",
    "print(\"Score F1 : {}\".format(srandfor_f1))"
   ]
  },
  {
   "cell_type": "markdown",
   "metadata": {},
   "source": [
    "**Validation croisée pour les forêts aléatoires**"
   ]
  },
  {
   "cell_type": "code",
   "execution_count": 123,
   "metadata": {},
   "outputs": [
    {
     "name": "stdout",
     "output_type": "stream",
     "text": [
      "0.9366188197767146\n"
     ]
    }
   ],
   "source": [
    "scores = cross_val_score(clf, Xm_test, Ym_test, cv= K)\n",
    "print(sum(scores)/K)"
   ]
  },
  {
   "cell_type": "markdown",
   "metadata": {},
   "source": [
    "## Analyse de galaxies\n",
    "\n",
    "Nous n'avons pas utilisé la recherche par grille pour les données Spam, mais nous allons l'utiliser ici pour définir les meilleurs hyperparamètres pour l'algorithme des K-plus proches voisins. Nous aurions pu l'utiliser dans les cas précédents mais cela ne change rien en terme de résultats purs."
   ]
  },
  {
   "cell_type": "code",
   "execution_count": 124,
   "metadata": {},
   "outputs": [],
   "source": [
    "feature_vectors = pd.read_csv('galaxy_feature_vectors.csv', delimiter = ',', header=None)\n",
    "labels = pd.read_csv('galaxy_label_data_set.csv', delimiter = ',')\n",
    "X_galaxy = pd.read_csv('galaxy_feature_vectors.csv', delimiter = ',', header=None).values[:,0:-1]\n",
    "Y_galaxy = pd.read_csv('galaxy_feature_vectors.csv', delimiter = ',', header=None).values[:,-1:].astype(int).flatten()\n",
    "Xg_train, Xg_test, Yg_train, Yg_test = train_test_split(X_galaxy, Y_galaxy, test_size=0.20, random_state=42, stratify=Y_galaxy)"
   ]
  },
  {
   "cell_type": "markdown",
   "metadata": {},
   "source": [
    "**Nous utilisons les caractéristiques du TP1 dans le vecteur d'entrée, combinées aux caractéristiques de galaxy_feature_vectors données par le TP2. (qu'est ce qui garantit que l'ordre des observations de galaxy_feature_vectors.csv soit le même que celles du TP1 ? )**"
   ]
  },
  {
   "cell_type": "code",
   "execution_count": 125,
   "metadata": {},
   "outputs": [],
   "source": [
    "X_galaxy_TP1 = pd.read_csv('vectors_TP1.csv', delimiter = ',').values[:,0:2]\n",
    "# utilisons uniquement circularite et aspect ratio ratio\n",
    "X_galaxy_TP1_1= np.concatenate([X_galaxy,X_galaxy_TP1[:,0:2]],axis=1)\n",
    "Xgtp1_train, Xgtp1_test, Ygtp1_train, Ygtp1_test = train_test_split(X_galaxy_TP1_1, Y_galaxy, test_size=0.20, random_state=42, stratify=Y_galaxy)"
   ]
  },
  {
   "cell_type": "markdown",
   "metadata": {},
   "source": [
    "Nous observons une incohérence dans les classes de sortie entre `galaxy_feature_vectors.csv` et `galaxy_label_data_set.csv` comme montré ci-dessous :"
   ]
  },
  {
   "cell_type": "code",
   "execution_count": 126,
   "metadata": {
    "scrolled": true
   },
   "outputs": [
    {
     "name": "stdout",
     "output_type": "stream",
     "text": [
      "galaxy_feature_vectors\n",
      "0    1.0\n",
      "1    0.0\n",
      "2    0.0\n",
      "3    0.0\n",
      "4    0.0\n",
      "5    1.0\n",
      "Name: 75, dtype: float64\n",
      "galaxy_label_data_set\n",
      "       id   class\n",
      "0  100090  smooth\n",
      "1  100134  spiral\n",
      "2  100322  spiral\n",
      "3  100380  spiral\n",
      "4  100458  smooth\n",
      "5  100479  smooth\n"
     ]
    }
   ],
   "source": [
    "print(\"galaxy_feature_vectors\")\n",
    "print(pd.read_csv('galaxy_feature_vectors.csv', delimiter = ',', header=None)[75].head(6))\n",
    "\n",
    "print(\"galaxy_label_data_set\")\n",
    "print(labels.head(6)) "
   ]
  },
  {
   "cell_type": "markdown",
   "metadata": {},
   "source": [
    "En effet, dans `galaxy_feature_vectors`, la classe 1 correspond à $smooth$ alors que la classe 0 correspond à $spiral$. Cependant, dans `galaxy_label_data_set`, les classes ne correspondent pas à `galaxy_feature_vectors`. Nous avons donc choisi de ne pas utiliser nos primitives trouvées dans le TP1 dans nos analyses."
   ]
  },
  {
   "cell_type": "markdown",
   "metadata": {},
   "source": [
    "### KNN "
   ]
  },
  {
   "cell_type": "code",
   "execution_count": 127,
   "metadata": {},
   "outputs": [],
   "source": [
    "gKNN_acc_uniform = []\n",
    "gKNN_f1_uniform = []\n",
    "\n",
    "gKNN_acc_distance = []\n",
    "gKNN_f1_distance = []"
   ]
  },
  {
   "cell_type": "code",
   "execution_count": 128,
   "metadata": {},
   "outputs": [
    {
     "name": "stdout",
     "output_type": "stream",
     "text": [
      "{'n_neighbors': 10, 'weights': 'distance'}\n"
     ]
    }
   ],
   "source": [
    "parameters = {'weights':('uniform', 'distance'), 'n_neighbors':[3, 5, 10]}\n",
    "\n",
    "knn = KNeighborsClassifier()\n",
    "\n",
    "clf = GridSearchCV(knn, parameters, cv=10)\n",
    "clf.fit(X_galaxy, Y_galaxy)\n",
    "\n",
    "print(clf.best_params_)"
   ]
  },
  {
   "cell_type": "markdown",
   "metadata": {},
   "source": [
    "#### K = 3, 5, 10, Poids = 'uniform' & Poids = 'distance'"
   ]
  },
  {
   "cell_type": "code",
   "execution_count": 129,
   "metadata": {},
   "outputs": [],
   "source": [
    "for n_neigh in (3, 5, 10):\n",
    "\n",
    "    clf = KNeighborsClassifier(n_neighbors=n_neigh, weights='uniform')\n",
    "\n",
    "    clf = clf.fit(Xg_train, Yg_train)\n",
    "    Y_pred = clf.predict(Xg_test)\n",
    "\n",
    "    acc = accuracy_score(Yg_test, Y_pred)\n",
    "    f1 = f1_score(Yg_test, Y_pred, average='weighted') \n",
    "\n",
    "    gKNN_acc_uniform.append(acc)\n",
    "    gKNN_f1_uniform.append(f1)\n",
    "\n",
    "\n",
    "    clf = KNeighborsClassifier(n_neighbors=n_neigh, weights='distance')\n",
    "    clf = clf.fit(Xg_train, Yg_train)\n",
    "    Y_pred = clf.predict(Xg_test)\n",
    "\n",
    "    acc = accuracy_score(Yg_test, Y_pred)\n",
    "    f1 = f1_score(Yg_test, Y_pred, average='weighted') \n",
    "\n",
    "    gKNN_acc_distance.append(acc)\n",
    "    gKNN_f1_distance.append(f1)"
   ]
  },
  {
   "cell_type": "markdown",
   "metadata": {},
   "source": [
    "#### KNN - Accuracy & F1 Scores"
   ]
  },
  {
   "cell_type": "code",
   "execution_count": 130,
   "metadata": {},
   "outputs": [
    {
     "data": {
      "image/png": "[encoded data removed]",
      "text/plain": [
       "<Figure size 432x288 with 1 Axes>"
      ]
     },
     "metadata": {
      "needs_background": "light"
     },
     "output_type": "display_data"
    }
   ],
   "source": [
    "for i, label in zip(range(0, 3), (3, 5, 10)):\n",
    "    plt.plot(gKNN_acc_uniform[i], gKNN_f1_uniform[i], \"o\", label='K = {}, poids = \"uniform\"'.format(label))\n",
    "    plt.plot(gKNN_acc_distance[i], gKNN_f1_distance[i], \"o\", label='K = {}, poids = \"distance\"'.format(label))\n",
    "plt.xlabel(\"Accuracy\")\n",
    "plt.ylabel(\"F1 Score\")\n",
    "plt.legend(loc='upper left')\n",
    "plt.xlim([0.5, 0.6])\n",
    "plt.ylim([0.5, 0.6])\n",
    "plt.show()"
   ]
  },
  {
   "cell_type": "markdown",
   "metadata": {},
   "source": [
    "#### KNN - Cross-validation\n",
    "Les meilleurs hyperparamètres renvoyés par `Grid Search` sont `K = 10` et `poids = distance`. Cependant, lorsque nous exécutons les différentes commandes sans passer par la fonction, nous obtenons de meilleurs résultats lorsque `K = 10` et que le `poids = uniforme`. Nous allons donc faire la validation croisée avec les deux hyperparamètres."
   ]
  },
  {
   "cell_type": "code",
   "execution_count": 131,
   "metadata": {},
   "outputs": [
    {
     "name": "stdout",
     "output_type": "stream",
     "text": [
      "[0.58865248 0.57446809 0.57362507 0.54405677 0.56771141 0.56002365\n",
      " 0.5556213  0.58047337 0.5556213  0.57159763]\n",
      "0.5671851089912532\n"
     ]
    }
   ],
   "source": [
    "nfold = 10\n",
    "clf = KNeighborsClassifier(n_neighbors=10, weights='uniform')\n",
    "gKNN_scores = cross_val_score(clf, X_galaxy, Y_galaxy, cv=nfold)\n",
    "print (gKNN_scores)\n",
    "print(sum(gKNN_scores)/nfold)"
   ]
  },
  {
   "cell_type": "code",
   "execution_count": 132,
   "metadata": {},
   "outputs": [
    {
     "name": "stdout",
     "output_type": "stream",
     "text": [
      "[0.58510638 0.57269504 0.56357185 0.5487877  0.56830278 0.5505618\n",
      " 0.57159763 0.57928994 0.56331361 0.5704142 ]\n",
      "0.5673640930790169\n"
     ]
    }
   ],
   "source": [
    "nfold = 10\n",
    "clf = KNeighborsClassifier(n_neighbors=10, weights='distance')\n",
    "scores = cross_val_score(clf, X_galaxy, Y_galaxy, cv=nfold)\n",
    "print (scores)\n",
    "print(sum(scores)/nfold)"
   ]
  },
  {
   "cell_type": "markdown",
   "metadata": {},
   "source": [
    "Nous remarquons que la validation croisée pour `K = 10` et `poids = distance` donne, quoique d'une différence très minime, un meilleur résultat. Nous pouvons donc dire que l'utilisation de `Grid Search` pour la recherche des meilleurs hyperparamètres est tout de même meilleure qu'une recherche faite \"soi-même\" dans ce cas là."
   ]
  },
  {
   "cell_type": "code",
   "execution_count": 133,
   "metadata": {},
   "outputs": [
    {
     "name": "stdout",
     "output_type": "stream",
     "text": [
      "              precision    recall  f1-score   support\n",
      "\n",
      "           0       0.60      0.54      0.57      1811\n",
      "           1       0.53      0.59      0.56      1571\n",
      "\n",
      "   micro avg       0.56      0.56      0.56      3382\n",
      "   macro avg       0.56      0.56      0.56      3382\n",
      "weighted avg       0.57      0.56      0.56      3382\n",
      "\n",
      "[[980 831]\n",
      " [647 924]]\n"
     ]
    }
   ],
   "source": [
    "clf = KNeighborsClassifier(n_neighbors=10, weights='uniform')\n",
    "clf = clf.fit(Xg_train, Yg_train)\n",
    "Y_pred = clf.predict(Xg_test)\n",
    "CM = confusion_matrix(Y_pred, Yg_test)\n",
    "\n",
    "print(classification_report(Y_pred,Yg_test))\n",
    "print(CM)"
   ]
  },
  {
   "cell_type": "markdown",
   "metadata": {},
   "source": [
    "# Expliquer"
   ]
  },
  {
   "cell_type": "markdown",
   "metadata": {},
   "source": [
    "### Bayes\n",
    "#### Loi Gaussienne (normale)"
   ]
  },
  {
   "cell_type": "code",
   "execution_count": 134,
   "metadata": {},
   "outputs": [
    {
     "name": "stdout",
     "output_type": "stream",
     "text": [
      "Précision : 0.797752808988764\n",
      "Score F1 : 0.797131047668415\n"
     ]
    }
   ],
   "source": [
    "clf = GaussianNB()\n",
    "clf.fit(Xg_train, Yg_train)\n",
    "Y_pred = clf.predict(Xg_test)\n",
    "\n",
    "ggauss_acc = accuracy_score(Yg_test, Y_pred)\n",
    "ggauss_f1 = f1_score(Yg_test, Y_pred, average='weighted') \n",
    "\n",
    "print(\"Précision : {}\".format(ggauss_acc))\n",
    "print(\"Score F1 : {}\".format(ggauss_f1))"
   ]
  },
  {
   "cell_type": "markdown",
   "metadata": {},
   "source": [
    "#### Loi Multinomiale"
   ]
  },
  {
   "cell_type": "code",
   "execution_count": 135,
   "metadata": {},
   "outputs": [],
   "source": [
    "est = KBinsDiscretizer(n_bins = 10, encode='ordinal')\n",
    "est.fit(X_galaxy) \n",
    "Xt_galaxy = est.transform(X_galaxy)\n",
    "\n",
    "scaler = preprocessing.MinMaxScaler()\n",
    "Xg_scaled = scaler.fit_transform(Xt_galaxy)\n",
    "\n",
    "Xg_train, Xg_test, Yg_train, Yg_test = train_test_split(Xg_scaled, Y_galaxy, test_size=0.20, random_state=42, stratify=Y_galaxy)"
   ]
  },
  {
   "cell_type": "markdown",
   "metadata": {},
   "source": [
    "*Recherche de l'hyperparamètre $alpha$ pour la loi multinomiale*"
   ]
  },
  {
   "cell_type": "code",
   "execution_count": 136,
   "metadata": {},
   "outputs": [
    {
     "name": "stdout",
     "output_type": "stream",
     "text": [
      "1.1578947368421053\n"
     ]
    }
   ],
   "source": [
    "NBParamGrid = dict(alpha=np.linspace(0,2,20)[1:])\n",
    "paramsearch = GridSearchCV(estimator=MultinomialNB(), param_grid=NBParamGrid, n_jobs=6,cv=10)\n",
    "paramsearch.fit(Xg_train, Yg_train)\n",
    "selected_alpha = paramsearch.best_estimator_.alpha\n",
    "print(selected_alpha)"
   ]
  },
  {
   "cell_type": "markdown",
   "metadata": {},
   "source": [
    "La meilleure valeur de alpha est 1.158 d'après `Grid Search` et sera utilisée par la suite pour la validation."
   ]
  },
  {
   "cell_type": "markdown",
   "metadata": {},
   "source": [
    "#### Bayes - Loi multinomiale - avec validation hold-out"
   ]
  },
  {
   "cell_type": "code",
   "execution_count": 137,
   "metadata": {},
   "outputs": [
    {
     "name": "stdout",
     "output_type": "stream",
     "text": [
      "Précision : 0.7965700768775872\n",
      "Score F1 : 0.7965745650692521\n"
     ]
    }
   ],
   "source": [
    "clf = MultinomialNB(alpha=selected_alpha)\n",
    "clf.fit(Xg_train, Yg_train)\n",
    "Y_pred = clf.predict(Xg_test)\n",
    "\n",
    "gmulti_acc = accuracy_score(Yg_test, Y_pred)\n",
    "gmulti_f1 = f1_score(Yg_test, Y_pred, average='weighted') \n",
    "\n",
    "print(\"Précision : {}\".format(gmulti_acc))\n",
    "print(\"Score F1 : {}\".format(gmulti_f1))"
   ]
  },
  {
   "cell_type": "markdown",
   "metadata": {},
   "source": [
    "On remarque que l'utilisation de la loi multinomiale avec les hyperparamètres `MinMaxScaler` et `K-Bins discretization` donne une meilleure précision et score F1. Nous allons donc les utiliser pour la validation croisée.\n",
    "\n",
    "#### Bayes - Loi multinomiale - avec validation croisee"
   ]
  },
  {
   "cell_type": "code",
   "execution_count": 138,
   "metadata": {},
   "outputs": [
    {
     "name": "stdout",
     "output_type": "stream",
     "text": [
      "0.8009194601819851\n"
     ]
    }
   ],
   "source": [
    "K = 10\n",
    "clf = MultinomialNB(alpha=selected_alpha)\n",
    "scores = cross_val_score(clf, Xg_scaled, Y_galaxy, cv= K)\n",
    "print(sum(scores)/K)"
   ]
  },
  {
   "cell_type": "markdown",
   "metadata": {},
   "source": [
    "Nous allons maintenant effectuer le test de classification pour la loi multinomiale avec les primitives calculées dans le TP1, ajoutées aux autres primitives données dans le TP2. En effet, puisque nous avons trouvé une incohérence dans les deux datasets précédemment, nous avons préféré ne pas utiliser au début de nos analyses ces données."
   ]
  },
  {
   "cell_type": "code",
   "execution_count": 139,
   "metadata": {},
   "outputs": [
    {
     "name": "stdout",
     "output_type": "stream",
     "text": [
      "0.7943571144847276\n"
     ]
    }
   ],
   "source": [
    "K = 10\n",
    "clf = MultinomialNB(alpha=selected_alpha)\n",
    "XgTP1_scaled = scaler.fit_transform(X_galaxy_TP1_1)\n",
    "gmulti_scores = cross_val_score(clf, XgTP1_scaled, Y_galaxy, cv= K)\n",
    "print(sum(gmulti_scores)/K)"
   ]
  },
  {
   "cell_type": "markdown",
   "metadata": {},
   "source": [
    "## Question 1\n",
    "### Méthode de création des ensembles de données\n",
    "\n",
    "Nous avons essentiellement utilisé les méthodes de la librairie `Scikitlearn` pour créer nos ensembles de données. Nous utilisons `train_test_split` pour entrainer des algorithmes avec des validations en holdout, et `cross_val_score` pour des entrainements avec validation croisée. Cette librairie nous offre des moyens simples d'utilisation pour générer des ensembles de tailles pré-déterminée et mélangés pour simuler des conditions au plus proche d'un cas d'utilisation réelle compte tenu de nos données. Nous avons aussi utilisé Pandas qui est une librairie permettant de mieux gérer nos data frames. Nos données `Galaxies` sont constituées des primitives données pour le TP2 ainsi que nos anciennes primitives concaténées. Cependant, nous avons remarqué une inconsistance dans les labels, c'est pourquoi, pour certains de nos tests, nous n'utilisons que les données données."
   ]
  },
  {
   "cell_type": "markdown",
   "metadata": {},
   "source": [
    "## Question 2\n",
    "### Approche de validation proposée et justification\n",
    "Nous avons choisi de pratiquer des validations croisées pour valider la totalité de nos apprentissages car nous pensons que c'est le meilleur compromis parmi K-fold cross-validation, leave-one-out, leave-P-out et holdout. En effet il nous permet de tester suffisamment de cas de figures d'entrainements pour être confiant sur l'apprentissage suffisamment général par rapport à holdout mais sans pour autant être aussi gourmand en ressources que leave-one-out ou leave-P-out. La méthode holdout permet de tester rapidement nos méthodes de classification et pour avoir une idée de l'erreur entre les véritables données, mais pour avoir l'erreur la plus représentatrice, nous utilisons ensuite les validations croisées. "
   ]
  },
  {
   "cell_type": "markdown",
   "metadata": {},
   "source": [
    "## Question 3\n",
    "### Matrice des expérimentations\n"
   ]
  },
  {
   "cell_type": "code",
   "execution_count": 140,
   "metadata": {},
   "outputs": [
    {
     "data": {
      "text/markdown": [
       "|Données|Pourriels|Galaxies|\n",
       "|-------|---------|--------|\n",
       "|Arbre de décision d=3|Acc = 0.8985507246376812, F1 = 0.897740031205263|None|\n",
       "|Arbre de décision d=5|Acc = 0.9003623188405797, F1 = 0.8990733553257645|None|\n",
       "|Arbre de décision d=10|Acc = 0.9094202898550725, F1 = 0.9086964564332707|None|\n",
       "|Arbre de décision d=None|Acc = 0.9130434782608695, F1 = 0.9128356768712276|None|\n",
       "|Arbre de décision 10-CV|0.9184627502461437|None|\n",
       "|3-NN Uniform|Acc = 0.8188405797101449, F1 = 0.818407660148391|Acc = 0.5467179183914843, F1 = 0.546580009350169|\n",
       "|3-NN Distance|Acc = 0.8297101449275363, F1 = 0.8297101449275363|Acc = 0.539030159668835, F1 = 0.538831071662403|\n",
       "|5-NN Uniform|Acc = 0.8079710144927537, F1 = 0.807347603796286|Acc = 0.5582495564754583, F1 = 0.5580209973466429|\n",
       "|5-NN Distance|Acc = 0.8242753623188406, F1 = 0.8242086503869479|Acc = 0.5408042578356003, F1 = 0.5405746872272853|\n",
       "|10-NN Uniform|Acc = 0.7844202898550725, F1 = 0.7813752527940205|Acc = 0.5629804849201656, F1 = 0.5625866823342862|\n",
       "|10-NN Distance|Acc = 0.8278985507246377, F1 = 0.8275590465636746|Acc = 0.560615020697812, F1 = 0.5598099126473268|\n",
       "|3-NN Distance 10-CV|0.8029222185756482|0.5671851089912532|\n",
       "|Bayes Gaussian|Acc = 0.8387681159420289, F1 = 0.8402037805334562|Acc = 0.797752808988764, F1 = 0.797131047668415|\n",
       "|Bayes Multinomial|Acc = 0.907608695652174, F1 = 0.9081476031094811|Acc = 0.7965700768775872, F1 = 0.7965745650692521|\n",
       "|Bayes Multinomial 10-CV|0.8804200853298326|0.7943571144847276|\n"
      ],
      "text/plain": [
       "<IPython.core.display.Markdown object>"
      ]
     },
     "execution_count": 140,
     "metadata": {},
     "output_type": "execute_result"
    }
   ],
   "source": [
    "Markdown(\"\"\"|Données|Pourriels|Galaxies|\n",
    "|-------|---------|--------|\n",
    "|Arbre de décision d=3|Acc = {0}, F1 = {1}|None|\n",
    "|Arbre de décision d=5|Acc = {2}, F1 = {3}|None|\n",
    "|Arbre de décision d=10|Acc = {4}, F1 = {5}|None|\n",
    "|Arbre de décision d=None|Acc = {6}, F1 = {7}|None|\n",
    "|Arbre de décision 10-CV|{8}|None|\n",
    "|3-NN Uniform|Acc = {9}, F1 = {10}|Acc = {11}, F1 = {12}|\n",
    "|3-NN Distance|Acc = {13}, F1 = {14}|Acc = {15}, F1 = {16}|\n",
    "|5-NN Uniform|Acc = {17}, F1 = {18}|Acc = {19}, F1 = {20}|\n",
    "|5-NN Distance|Acc = {21}, F1 = {22}|Acc = {23}, F1 = {24}|\n",
    "|10-NN Uniform|Acc = {25}, F1 = {26}|Acc = {27}, F1 = {28}|\n",
    "|10-NN Distance|Acc = {29}, F1 = {30}|Acc = {31}, F1 = {32}|\n",
    "|3-NN Distance 10-CV|{33}|{34}|\n",
    "|Bayes Gaussian|Acc = {35}, F1 = {36}|Acc = {37}, F1 = {38}|\n",
    "|Bayes Multinomial|Acc = {39}, F1 = {40}|Acc = {41}, F1 = {42}|\n",
    "|Bayes Multinomial 10-CV|{43}|{44}|\n",
    "\"\"\".format(sthree_acc[1], sthree_f1[1], sthree_acc[2], sthree_f1[2], sthree_acc[3], sthree_f1[3], sthree_acc[0], sthree_f1[0], \n",
    "           sum(sthree_CV_scores)/10, sKNN_acc_uniform[0], sKNN_f1_uniform[0], gKNN_acc_uniform[0], gKNN_f1_uniform[0], \n",
    "           sKNN_acc_distance[0], sKNN_f1_distance[0], gKNN_acc_distance[0], gKNN_f1_distance[0], \n",
    "           sKNN_acc_uniform[1], sKNN_f1_uniform[1], gKNN_acc_uniform[1], gKNN_f1_uniform[1], \n",
    "           sKNN_acc_distance[1], sKNN_f1_distance[1], gKNN_acc_distance[1], gKNN_f1_distance[1],\n",
    "           sKNN_acc_uniform[2], sKNN_f1_uniform[2], gKNN_acc_uniform[2], gKNN_f1_uniform[2], \n",
    "           sKNN_acc_distance[2], sKNN_f1_distance[2], gKNN_acc_distance[2], gKNN_f1_distance[2],\n",
    "           sum(sKNN_scores)/10, sum(gKNN_scores)/nfold,\n",
    "           sgauss_acc, sgauss_f1, ggauss_acc, ggauss_f1,\n",
    "           smulti_acc, smulti_f1, gmulti_acc, gmulti_f1,\n",
    "           sum(smulti_scores)/10, sum(gmulti_scores)/K))"
   ]
  },
  {
   "cell_type": "markdown",
   "metadata": {},
   "source": [
    "### Etude des hyperparamètres\n",
    "\n",
    "#### Arbres de décision  \n",
    "\n",
    "D'après nos données, ne pas limiter la profondeur de l'abre créee un sur-apprentissage, il est donc préférable de limiter celle-ci. Pour les 3 valeurs testées ,plus la profondeur de l'arbre est élevée, plus la précision et les scores F1 sont élevés.\n",
    "Le gain d'information et donc la pureté de nos ensembles de données s'améliore en augmentant cette profondeur.Dans le cas des données de spams, Une profondeur de 10 ne semble pas causer de sur-apprentissage et permet d'obtenir les meilleurs résultats avec un F1 score de 0.9185.Cependant avec une prodondeur de 5 le F1 score est assez proche 0.90759 et dépendemment de l'application que l'on souhaite mettre en place il faudra prendre en compte la complexité de le l'arbre et une profondeur de 5 semble etre un bon compromis complexité/performance.\n",
    "\n",
    "#### KNN  \n",
    "`poids = uniform` veut dire que la pondération de chaque voisin est uniforme et ne dépend pas de la distance au point.\n",
    "L'option `poids = distance` pondère différement chaque voisin pour la décision de l'algorithme KNN. Cette pondération est inversement proportionnelle a la distance au point a classifier.\n",
    "La distance utilisée est celle par defaut donc ‘minkowski’ avec p=2 ce qui équivaut à la distance Euclidienne.\n",
    "\n",
    "Dans le cas des spams, les meilleurs hyperparamètres sont : `nombre de voisins = 3` et `poids = distance`. Nous pouvons expliquer cela par le fait que lorsque k est trop grand, le biais est important et on risque un sous-apprentissage. `K = 3` semble etre un bon compromis biais/variance sans introduire de sur-apprentissage. La performance de cet algorithme est également a prendre en compte car la pondération par distance introduit de la lenteur dans l'exécution O(nd+nk).\n",
    "\n",
    "Pour les galaxies, les meilleurs hyperparamètres sont : `nombre de voisins = 10` et `poids = distance`. Le nombre de voisins optimal est supérieur que pour les données `spam` car les données sont plus éparses. En effet, les galaxies sont des images, et la classification d'images grâce à leurs primitives est généralement plus difficile que pour des données plus \"directes\" comme le nombre de mots dans un mail... Il faut donc un nombre de voisins plus élevé pour que le choix soit plus optimal. Cependant ce modèle ne semble pas adapté à ce jeu de données.\n",
    "\n",
    "\n",
    "Nous pouvons remarquer que lorsque l'hyperparamètre du poids est égal à $distance$, les résultats sont significativement meilleurs. En effet, les voisins les plus proches aideront à mieux discriminer le point étudié.\n",
    "\n",
    "\n",
    "#### Bayes \n",
    "\n",
    "Deux hypothèses de distributions ont été étudiées dans ce projet, la loi normale et la distribution multinomiale. Pour cette dernière, il s'agit d'une généralisation de la loi de Bernouilli (succès de n épreuves) pour des variables de nature catégorielle (discrètes) comme c'est le cas pour `spam` ou `galaxies`.\n",
    "\n",
    "L'impact de l'hyperparamètre alpha a été évalué pour cette distribution pour la classifiaction de galaxies. Alpha est un hyperparamètre de lissage pour les variables catégorielles.\n",
    "\n",
    "\n",
    "Pour nos deux jeux de données, le meilleur résultat sont obtenus grâce à l'algorithme de Bayes naïf multinomial, avec `MinMaxScaler` et la `K-Bins discretization`.   \n",
    "\n",
    "D'après la définition de Scikit-learn, `MinMaxScaler` transforme les primitives en les mettant à l'échelle entre 0 et 1. Cela permet de minimiser les différences d'échelle entre les différents attributs. (Ex : un attribut entre 0 et 1000 et un attribut entre 0 et 1).\n",
    "\n",
    "`KBinsDiscretizer` permet de discrétiser les attributs continus que nous avons en entrée. Cela permet de réduire les différences entre les différentes valeurs que peut prendre l'attribut, ce qui permet de mieux les regrouper entre eux.\n",
    "\n",
    "Ces meilleurs résultats peuvent s'expliquer par le fait que pour les algorithmes, il est plus facile de différencier des valeurs discrètes qu'une infinité de valeurs différentes (ce qui semble assez logique). En effet, une partie de la classification est déjà faite sur les primitives. De plus, mettre à l'échelle les différentes primitives permet de ne pas sur-interpréter les données qui sont sur une grande échelle. \n",
    "\n",
    "#### Forêts aléatoires (random forest)\n",
    "\n",
    "Les hyperparamètres pour le modèle des forêts aléatoires ont été déterminés avec une recherche par grille (`Grid Search`). La profondeur des arbres (max_depth) est un hyperparamètre a considérer ainsi que le nombre d'arbres (n_estimators).La profondeur maximale utilisée est 20 avec 30 arbres.\n",
    "\n"
   ]
  },
  {
   "cell_type": "markdown",
   "metadata": {},
   "source": [
    "## Question 4\n",
    "### Impact de la taille des ensembles de données sur la performance de classification\n",
    "\n",
    "D'après nos différentes analyses, les ensembles de données qui se démarquent le mieux sont ceux dont les attributs sont discrétisés. En effet, comme expliqué précédemment, cela permet de regrouper un ensemble de valeurs différentes ensemble. Pour ce qui est de la taille des ensembles de données, nous avons beaucoup moins d'exemples pour `Spam` que pour `Galaxies`. Cependant, le cas des spams donne des erreurs beaucoup plus faibles que le cas des galaxies. Nous pouvons expliquer cela par le fait que les primitives de Spam sont plus discriminantes que celles des galaxies. Nous pouvons donc déduire de ces exemples que la taille des ensembles des données n'aide pas forcément à une meilleure classification des données. En effet, la qualité des primitives joue un rôle principal dans les classifications. Cependant, lorsque les privitives discriminent bien les données, il est évident qu'un nombre plus important d'exemples d'apprentissage va favoriser une meilleure classification des données."
   ]
  },
  {
   "cell_type": "markdown",
   "metadata": {},
   "source": [
    "## Question 5\n",
    "### Impact du bruit dans les ensembles de données sur la performance de classification"
   ]
  },
  {
   "cell_type": "markdown",
   "metadata": {},
   "source": [
    "On sait que les données extraites de l'analyse des images de galaxies sont plus bruitées que celles extraites des courriels. Par conséquent en testant chaque classifieur avec les mêmes hyperparamètres pour nos deux problématiques de classification, nous sommes en mesure de comparer l'impact du bruit sur la classification.\n",
    "Etant donné que nous avons déja constaté que les résultats des arbres de classification n'étaient pas très bons, nous pouvons conclure que ce type de classification est très sensible au bruit. D'ailleurs, pour la classification des courriels, on obtient un score de plus de 90% comparé au 75% pour les galaxies dans le lab précédent.\n",
    "\n",
    "D'après les observations des résultas de KNN, il semblerait que ce classifieur soit encore plus sensible au bruit que les arbres de classification.\n",
    "\n",
    "D'un autre côté les classifieurs naïfs guassiens ou multinomiaux semblent moins sensibles au bruit mais n'améliorent pas la classification d'un ensemble peu bruité comparé aux résultats obtenus dans KNN ou par arbres de décision avec les courriels."
   ]
  },
  {
   "cell_type": "markdown",
   "metadata": {},
   "source": [
    "## Question 6\n",
    "### Discussion sur la nature des données\n",
    "\n",
    "Les données `Spam` sont extraites de différents mails, qui sont eux même composés d'une série de mots. Les données `Galaxy` sont quant à elles des images. Il est clairement plus difficile d'extraire de bonnes primitives sur des images que sur un texte simple. En effet, il faut tout d'abord effectuer plusieurs pré-traitements sur les images pour pouvoir extraire des données qui ne sont pas complètement sûres, par rapport à un nombre d'enchainement de mots écrits en majuscule dans un texte par exemple.  \n",
    "C'est pourquoi nous arrivons mieux à classifier les mails en Spam que les différents types de galaxies.\n",
    "\n",
    "Pour les données comme `Spam`, le meilleur algorithme est celui des arbres de décision, d'après le tableau de résultats. En effet, il est plus facile de donner un seuil pour ces variables qui va classifier au mieux nos données. Les algorithmes KNN sont moins performants car nous avons 57 attributs donc autant de dimensions. La notion de distance dans 57 dimensions n'est pas assez discriminante... L'algorithme Bayésien naïf a une performance similaire aux arbres de décision pour les raisons expliquées dans la question 3.\n",
    "\n",
    "Pour les données `Galaxies`, les deux algorithmes de Bayes naïf s'équivalent. Les mêmes raisons s'appliquent pour le multinomial. Pour le gaussien, il permet d'atténuer de manière significative les valeurs abérrentes, qui se trouvent en quantité considérables dans notre jeu de données. C'est justement l'énorme portée des variables ainsi que l'incertitude liée à nos primitives qui font que les algorithmes des arbres de décision ne fonctionnent pas bien. De même, comme expliqué précédemment, le bruit détruit toute chance au KNN de bien classifier nos données."
   ]
  },
  {
   "cell_type": "markdown",
   "metadata": {},
   "source": [
    "## Question 7\n",
    "### Recommandations\n",
    "\n",
    "Après avoir compris nos résultats, nous pensons pouvoir conclure sur des pratiques qui nous semblent pertinentes en fonction des données qui nous sont proposées.\n",
    "Tout d'abord, lorsque nous avons affaire à des images il semble essentiel de discrétiser les caractéristiques de sorte à réduire l'impact du bruit sur la décision. Cela semble être un traitement qui va dans le sens de la généralisation de l'apprentissage. Les features une fois discrétisées sont dès lors adaptées à des méthodes de classification Bayésiennes telles que des classifieurs Gaussiens ou Multinomiaux.\n",
    "\n",
    "Pour des données moins bruitées il nous semble qu'aucune technique de classification ne prévale au vu de nos résultats, cependant nous savons que toutes les techniques ne sont pas aussi gourmandes en ressources mémoire ou temps de calcul. Partant de ce constat, les méthodes KNN sont trop gourmandes (et aussi légèrement moins précises) et donc à éviter si possible. KNN fonctionne aussi mieux lorsqu'on a moins de caractéristiques."
   ]
  },
  {
   "cell_type": "markdown",
   "metadata": {},
   "source": [
    "## Question 8\n",
    "### Améliorations possibles\n",
    "\n",
    "Pour les données `Spam`, si nous voulons appliquer l'algorithme des K-PPV, nous pouvons réduire la dimensionnalité des attributs pour enlever ceux qui sont les plus correlés entre eux (décrire l'objet avec un nombre minime d'attributs qui ne sont pas liés les uns aux autres). Cela permettrait d'améliorer la notion de distance pour mieux discriminer les pourriels.\n",
    "\n",
    "Pour les données `Galaxies`, nous avons vu que les quelques méthodes discrétisation et de mises à l'échelle étaient très efficaces. Il existe sûrement d'autres méthodes que nous aurions pu utiliser pour améliorer notre classification."
   ]
  },
  {
   "cell_type": "code",
   "execution_count": null,
   "metadata": {},
   "outputs": [],
   "source": []
  }
 ],
 "metadata": {
  "kernelspec": {
   "display_name": "Python [default]",
   "language": "python",
   "name": "python3"
  },
  "language_info": {
   "codemirror_mode": {
    "name": "ipython",
    "version": 3
   },
   "file_extension": ".py",
   "mimetype": "text/x-python",
   "name": "python",
   "nbconvert_exporter": "python",
   "pygments_lexer": "ipython3",
   "version": "3.5.6"
  }
 },
 "nbformat": 4,
 "nbformat_minor": 2
}
