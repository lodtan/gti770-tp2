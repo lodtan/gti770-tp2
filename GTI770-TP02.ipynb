{
 "cells": [
  {
   "cell_type": "markdown",
   "metadata": {},
   "source": [
    "# Laboratoire 2 : Arbre de désision, Bayes naïf et KNN\n",
    "#### Département du génie logiciel et des technologies de l’information\n",
    "\n",
    "| Étudiants             | LEMARCHANT HUGO - LEMH03039705 * TAN ELODIE - TANE25619607 * JACQUES-SYLVAIN LECOINTRE LECJ19128301 |\n",
    "|-----------------------|---------------------------------------------------------|\n",
    "| Cours                 | GTI770 - Systèmes intelligents et apprentissage machine |\n",
    "| Session               | Automne 2018                                            |\n",
    "| Groupe                | C                                                       |\n",
    "| Numéro du laboratoire | 02                                                      |\n",
    "| Professeur            | Prof. Hervé Lombaert                                    |\n",
    "| Chargé de laboratoire | Pierre-Luc Delisle                                      |\n",
    "| Date                  | 11/10/2018                                              |"
   ]
  },
  {
   "cell_type": "code",
   "execution_count": 159,
   "metadata": {},
   "outputs": [],
   "source": [
    "# -*- coding:utf-8 -*-\n",
    "import numpy as np\n",
    "import cv2\n",
    "import matplotlib.pyplot as plt\n",
    "import sys\n",
    "import os, random\n",
    "import math\n",
    "from sklearn import tree\n",
    "from sklearn.model_selection import train_test_split, cross_val_score\n",
    "import scipy.ndimage as nd\n",
    "import csv\n",
    "import pandas as pd\n",
    "from sklearn.metrics import accuracy_score, classification_report, confusion_matrix\n",
    "from sklearn.neighbors import KNeighborsClassifier\n",
    "from sklearn.naive_bayes import GaussianNB\n",
    "from sklearn.naive_bayes import MultinomialNB\n",
    "from sklearn import preprocessing\n",
    "from sklearn.preprocessing import KBinsDiscretizer\n",
    "from sklearn.metrics import accuracy_score, f1_score\n",
    "from sklearn.model_selection import LeaveOneOut\n",
    "from sklearn.model_selection import GridSearchCV"
   ]
  },
  {
   "cell_type": "markdown",
   "metadata": {},
   "source": [
    "## Galaxy Zoo"
   ]
  },
  {
   "cell_type": "code",
   "execution_count": 164,
   "metadata": {},
   "outputs": [],
   "source": [
    "feature_vectors = pd.read_csv('galaxy_feature_vectors.csv', delimiter = ',', header=None)\n",
    "labels = pd.read_csv('galaxy_label_data_set.csv', delimiter = ',')"
   ]
  },
  {
   "cell_type": "code",
   "execution_count": 177,
   "metadata": {
    "collapsed": true
   },
   "outputs": [],
   "source": [
    "X_galaxy = pd.read_csv('galaxy_feature_vectors.csv', delimiter = ',', header=None).values[:,0:-1]\n",
    "Y_galaxy = pd.read_csv('galaxy_feature_vectors.csv', delimiter = ',', header=None).values[:,-1:].astype(int).flatten()"
   ]
  },
  {
   "cell_type": "code",
   "execution_count": 178,
   "metadata": {},
   "outputs": [
    {
     "name": "stdout",
     "output_type": "stream",
     "text": [
      "(16908, 75)\n",
      "(16908,)\n"
     ]
    }
   ],
   "source": [
    "print(X_galaxy.shape)\n",
    "print(Y_galaxy.shape)"
   ]
  },
  {
   "cell_type": "code",
   "execution_count": 179,
   "metadata": {},
   "outputs": [],
   "source": [
    "Xg_train, Xg_test, Yg_train, Yg_test = train_test_split(X_galaxy, Y_galaxy, test_size=0.20, random_state=42, stratify=Y_galaxy)"
   ]
  },
  {
   "cell_type": "markdown",
   "metadata": {},
   "source": [
    "##### Utilisons les caracteristiques du TP1 dans le vecteur d'entree (qu'est ce qui garanti que l'ordre des observations de galaxy_feature_vectors.csv soit le meme que celles du TP1 ? )"
   ]
  },
  {
   "cell_type": "code",
   "execution_count": 198,
   "metadata": {},
   "outputs": [],
   "source": [
    "X_galaxy_TP1 = pd.read_csv('vectors_TP1.csv', delimiter = ',', header=None).values[-1]\n",
    "# utilisons uniquement circularite et aspect ratio ratio\n",
    "#X_galaxy_TP1_1= np.concatenate([X_galaxy,X_galaxy_TP1[:,0:2]],axis=1)"
   ]
  },
  {
   "cell_type": "code",
   "execution_count": null,
   "metadata": {
    "scrolled": true
   },
   "outputs": [],
   "source": [
    " pd.read_csv('galaxy_feature_vectors.csv', delimiter = ',', header=None)[75].head(6)"
   ]
  },
  {
   "cell_type": "code",
   "execution_count": 278,
   "metadata": {},
   "outputs": [
    {
     "data": {
      "text/html": [
       "<div>\n",
       "<style scoped>\n",
       "    .dataframe tbody tr th:only-of-type {\n",
       "        vertical-align: middle;\n",
       "    }\n",
       "\n",
       "    .dataframe tbody tr th {\n",
       "        vertical-align: top;\n",
       "    }\n",
       "\n",
       "    .dataframe thead th {\n",
       "        text-align: right;\n",
       "    }\n",
       "</style>\n",
       "<table border=\"1\" class=\"dataframe\">\n",
       "  <thead>\n",
       "    <tr style=\"text-align: right;\">\n",
       "      <th></th>\n",
       "      <th>id</th>\n",
       "      <th>class</th>\n",
       "    </tr>\n",
       "  </thead>\n",
       "  <tbody>\n",
       "    <tr>\n",
       "      <th>0</th>\n",
       "      <td>100090</td>\n",
       "      <td>smooth</td>\n",
       "    </tr>\n",
       "    <tr>\n",
       "      <th>1</th>\n",
       "      <td>100134</td>\n",
       "      <td>spiral</td>\n",
       "    </tr>\n",
       "    <tr>\n",
       "      <th>2</th>\n",
       "      <td>100322</td>\n",
       "      <td>spiral</td>\n",
       "    </tr>\n",
       "    <tr>\n",
       "      <th>3</th>\n",
       "      <td>100380</td>\n",
       "      <td>spiral</td>\n",
       "    </tr>\n",
       "    <tr>\n",
       "      <th>4</th>\n",
       "      <td>100458</td>\n",
       "      <td>smooth</td>\n",
       "    </tr>\n",
       "  </tbody>\n",
       "</table>\n",
       "</div>"
      ],
      "text/plain": [
       "       id   class\n",
       "0  100090  smooth\n",
       "1  100134  spiral\n",
       "2  100322  spiral\n",
       "3  100380  spiral\n",
       "4  100458  smooth"
      ]
     },
     "execution_count": 278,
     "metadata": {},
     "output_type": "execute_result"
    }
   ],
   "source": [
    "labels.head(5)"
   ]
  },
  {
   "cell_type": "markdown",
   "metadata": {},
   "source": [
    "### KNN \n",
    "#### K = 3, 5, 10, Poids = 'uniform' & Poids = 'distance'"
   ]
  },
  {
   "cell_type": "code",
   "execution_count": 48,
   "metadata": {
    "collapsed": true
   },
   "outputs": [],
   "source": [
    "accuracies_uniform = []\n",
    "f1_scores_uniform = []\n",
    "\n",
    "accuracies_distance = []\n",
    "f1_scores_distance = []"
   ]
  },
  {
   "cell_type": "code",
   "execution_count": 49,
   "metadata": {
    "collapsed": true
   },
   "outputs": [],
   "source": [
    "for n_neigh in (3, 5, 10):\n",
    "    clf = KNeighborsClassifier(n_neighbors = n_neigh, weights='uniform')\n",
    "\n",
    "    clf = clf.fit(Xg_train, Yg_train)\n",
    "    Y_pred = clf.predict(Xg_test)\n",
    "\n",
    "    acc = accuracy_score(Yg_test, Y_pred)\n",
    "    f1 = f1_score(Yg_test, Y_pred, average='weighted') \n",
    "\n",
    "    accuracies_uniform.append(acc)\n",
    "    f1_scores_uniform.append(f1)\n",
    "\n",
    "\n",
    "    clf = KNeighborsClassifier(n_neighbors = n_neigh, weights='distance')\n",
    "    clf = clf.fit(Xg_train, Yg_train)\n",
    "    Y_pred = clf.predict(Xg_test)\n",
    "\n",
    "    acc = accuracy_score(Yg_test, Y_pred)\n",
    "    f1 = f1_score(Yg_test, Y_pred, average='weighted') \n",
    "\n",
    "    accuracies_distance.append(acc)\n",
    "    f1_scores_distance.append(f1)"
   ]
  },
  {
   "cell_type": "code",
   "execution_count": 50,
   "metadata": {},
   "outputs": [
    {
     "data": {
      "image/png": "[encoded data removed]",
      "text/plain": [
       "<Figure size 432x288 with 1 Axes>"
      ]
     },
     "metadata": {},
     "output_type": "display_data"
    }
   ],
   "source": [
    "for i, label in zip(range(0, 3), (3, 5, 10)):\n",
    "    plt.plot(accuracies_uniform[i], f1_scores_uniform[i], \"o\", label='K = {}, poids = \"uniform\"'.format(label))\n",
    "    plt.plot(accuracies_distance[i], f1_scores_distance[i], \"o\", label='K = {}, poids = \"distance\"'.format(label))\n",
    "plt.xlabel(\"Accuracy\")\n",
    "plt.ylabel(\"F1 Score\")\n",
    "plt.legend()\n",
    "plt.show()"
   ]
  },
  {
   "cell_type": "markdown",
   "metadata": {},
   "source": [
    "## Spam"
   ]
  },
  {
   "cell_type": "code",
   "execution_count": 108,
   "metadata": {
    "collapsed": true
   },
   "outputs": [],
   "source": [
    "df = pd.read_csv('spam.csv', delimiter = ',', header=None)\n",
    "X_mail = df.loc[:, 0:56]\n",
    "Y_mail = df.loc[:, 57]\n",
    "\n",
    "Xm_train, Xm_test, Ym_train, Ym_test = train_test_split(X_mail, Y_mail, test_size=0.20, random_state=42, stratify=Y_mail)"
   ]
  },
  {
   "cell_type": "markdown",
   "metadata": {},
   "source": [
    "### Arbres de décision\n",
    "#### Max-depth : none"
   ]
  },
  {
   "cell_type": "code",
   "execution_count": 109,
   "metadata": {
    "collapsed": true
   },
   "outputs": [],
   "source": [
    "accuracies = []\n",
    "f1_scores = []"
   ]
  },
  {
   "cell_type": "code",
   "execution_count": 110,
   "metadata": {
    "collapsed": true
   },
   "outputs": [],
   "source": [
    "clf = tree.DecisionTreeClassifier()\n",
    "clf = clf.fit(Xm_train, Ym_train)\n",
    "Y_pred = clf.predict(Xm_test)\n",
    "\n",
    "acc = accuracy_score(Ym_test, Y_pred)\n",
    "f1 = f1_score(Ym_test, Y_pred, average='weighted') \n",
    "\n",
    "accuracies.append(acc)\n",
    "f1_scores.append(f1)"
   ]
  },
  {
   "cell_type": "markdown",
   "metadata": {},
   "source": [
    "#### Max-depth : 3, 5, 10"
   ]
  },
  {
   "cell_type": "code",
   "execution_count": 111,
   "metadata": {
    "collapsed": true
   },
   "outputs": [],
   "source": [
    "for depth in (3, 5, 10):\n",
    "    clf = tree.DecisionTreeClassifier(max_depth=depth)\n",
    "    clf = clf.fit(Xm_train, Ym_train)\n",
    "    Y_pred = clf.predict(Xm_test)\n",
    "\n",
    "    acc = accuracy_score(Ym_test, Y_pred)\n",
    "    f1 = f1_score(Ym_test, Y_pred, average='weighted') \n",
    "\n",
    "    accuracies.append(acc)\n",
    "    f1_scores.append(f1)"
   ]
  },
  {
   "cell_type": "markdown",
   "metadata": {},
   "source": [
    "### Arbres de décision - Accuracy & F1 Score"
   ]
  },
  {
   "cell_type": "code",
   "execution_count": 112,
   "metadata": {},
   "outputs": [
    {
     "data": {
      "image/png": "[encoded data removed]",
      "text/plain": [
       "<Figure size 432x288 with 1 Axes>"
      ]
     },
     "metadata": {},
     "output_type": "display_data"
    }
   ],
   "source": [
    "for i, label in zip(range(0, 4), (0, 3, 5, 10)):\n",
    "    plt.plot(accuracies[i], f1_scores[i], \"o\", label='max-depth = {}'.format(label))\n",
    "plt.xlabel(\"Accuracy\")\n",
    "plt.ylabel(\"F1 Score\")\n",
    "plt.legend()\n",
    "plt.show()"
   ]
  },
  {
   "cell_type": "markdown",
   "metadata": {},
   "source": [
    "### Arbres de décision - Cross validation\n",
    "\n",
    "D'après le graphique des Accuracy et F1 scores, on se rend compte que le meilleur hyperparamètre pour les arbres de décision pour Spam est `max-depth = 10.` La Validation croisee sera donce effectuee avec l'hyperparamètre `max-depth = 10.` ."
   ]
  },
  {
   "cell_type": "code",
   "execution_count": 199,
   "metadata": {},
   "outputs": [
    {
     "name": "stdout",
     "output_type": "stream",
     "text": [
      "0.9144811289793239\n"
     ]
    }
   ],
   "source": [
    "K = 10\n",
    "clf = tree.DecisionTreeClassifier(max_depth = 10)\n",
    "scores = cross_val_score(clf, X_mail, Y_mail, cv= K)\n",
    "print(sum(scores)/K)"
   ]
  },
  {
   "cell_type": "markdown",
   "metadata": {},
   "source": [
    "### KNN \n",
    "#### K = 3, 5, 10, Poids = 'uniform' & Poids = 'distance'"
   ]
  },
  {
   "cell_type": "code",
   "execution_count": 114,
   "metadata": {
    "collapsed": true
   },
   "outputs": [],
   "source": [
    "accuracies_uniform = []\n",
    "f1_scores_uniform = []\n",
    "\n",
    "accuracies_distance = []\n",
    "f1_scores_distance = []"
   ]
  },
  {
   "cell_type": "code",
   "execution_count": 115,
   "metadata": {
    "collapsed": true
   },
   "outputs": [],
   "source": [
    "for n_neigh in (3, 5, 10):\n",
    "    clf = KNeighborsClassifier(n_neighbors = n_neigh, weights='uniform')\n",
    "\n",
    "    clf = clf.fit(Xm_train, Ym_train)\n",
    "    Y_pred = clf.predict(Xm_test)\n",
    "\n",
    "    acc = accuracy_score(Ym_test, Y_pred)\n",
    "    f1 = f1_score(Ym_test, Y_pred, average='weighted') \n",
    "\n",
    "    accuracies_uniform.append(acc)\n",
    "    f1_scores_uniform.append(f1)\n",
    "\n",
    "\n",
    "    clf = KNeighborsClassifier(n_neighbors = n_neigh, weights='distance')\n",
    "    clf = clf.fit(Xm_train, Ym_train)\n",
    "    Y_pred = clf.predict(Xm_test)\n",
    "\n",
    "    acc = accuracy_score(Ym_test, Y_pred)\n",
    "    f1 = f1_score(Ym_test, Y_pred, average='weighted') \n",
    "\n",
    "    accuracies_distance.append(acc)\n",
    "    f1_scores_distance.append(f1)"
   ]
  },
  {
   "cell_type": "markdown",
   "metadata": {},
   "source": [
    "### KNN - Accuracy & F1 Scores"
   ]
  },
  {
   "cell_type": "code",
   "execution_count": 116,
   "metadata": {},
   "outputs": [
    {
     "data": {
      "image/png": "[encoded data removed]",
      "text/plain": [
       "<Figure size 432x288 with 1 Axes>"
      ]
     },
     "metadata": {},
     "output_type": "display_data"
    }
   ],
   "source": [
    "for i, label in zip(range(0, 3), (3, 5, 10)):\n",
    "    plt.plot(accuracies_uniform[i], f1_scores_uniform[i], \"o\", label='K = {}, poids = \"uniform\"'.format(label))\n",
    "    plt.plot(accuracies_distance[i], f1_scores_distance[i], \"o\", label='K = {}, poids = \"distance\"'.format(label))\n",
    "plt.xlabel(\"Accuracy\")\n",
    "plt.ylabel(\"F1 Score\")\n",
    "plt.legend()\n",
    "plt.show()"
   ]
  },
  {
   "cell_type": "markdown",
   "metadata": {},
   "source": [
    "### KNN - Cross-validation"
   ]
  },
  {
   "cell_type": "code",
   "execution_count": 117,
   "metadata": {},
   "outputs": [
    {
     "name": "stdout",
     "output_type": "stream",
     "text": [
      "0.8029222185756482\n"
     ]
    }
   ],
   "source": [
    "K = 10\n",
    "clf = KNeighborsClassifier(n_neighbors=3, weights='distance')\n",
    "scores = cross_val_score(clf, X_mail, Y_mail, cv= K)\n",
    "print(sum(scores)/K)"
   ]
  },
  {
   "cell_type": "markdown",
   "metadata": {},
   "source": [
    "### Bayes Naive\n",
    "#### Gaussian"
   ]
  },
  {
   "cell_type": "code",
   "execution_count": 118,
   "metadata": {},
   "outputs": [
    {
     "name": "stdout",
     "output_type": "stream",
     "text": [
      "Précision : 0.8387681159420289\n",
      "Score F1 : 0.8402037805334562\n"
     ]
    }
   ],
   "source": [
    "clf = GaussianNB()\n",
    "clf.fit(Xm_train, Ym_train)\n",
    "Y_pred = clf.predict(Xm_test)\n",
    "\n",
    "acc_gauss = accuracy_score(Ym_test, Y_pred)\n",
    "f1_gauss = f1_score(Ym_test, Y_pred, average='weighted') \n",
    "\n",
    "print(\"Précision : {}\".format(acc_gauss))\n",
    "print(\"Score F1 : {}\".format(f1_gauss))"
   ]
  },
  {
   "cell_type": "markdown",
   "metadata": {},
   "source": [
    "#### Multinomial"
   ]
  },
  {
   "cell_type": "code",
   "execution_count": 119,
   "metadata": {},
   "outputs": [
    {
     "name": "stdout",
     "output_type": "stream",
     "text": [
      "Précision : 0.9094202898550725\n",
      "Score F1 : 0.9076189451243262\n"
     ]
    },
    {
     "name": "stderr",
     "output_type": "stream",
     "text": [
      "/Users/jslecointre/anaconda/envs/gti770/lib/python3.6/site-packages/sklearn/preprocessing/data.py:323: DataConversionWarning: Data with input dtype int64, float64 were all converted to float64 by MinMaxScaler.\n",
      "  return self.partial_fit(X, y)\n"
     ]
    }
   ],
   "source": [
    "est = KBinsDiscretizer(n_bins=3, encode='ordinal', strategy='uniform')\n",
    "est.fit(X_mail) \n",
    "\n",
    "scaler = preprocessing.MinMaxScaler()\n",
    "Xm_scaled = scaler.fit_transform(X_mail)\n",
    "\n",
    "Xm_train, Xm_test, Ym_train, Ym_test = train_test_split(Xm_scaled, Y_mail, test_size=0.20, random_state=42, stratify=Y_mail)\n",
    "\n",
    "clf = MultinomialNB()\n",
    "clf.fit(Xm_train, Ym_train)\n",
    "Y_pred = clf.predict(Xm_test)\n",
    "\n",
    "acc_multi = accuracy_score(Ym_test, Y_pred)\n",
    "f1_multi = f1_score(Ym_test, Y_pred, average='weighted') \n",
    "\n",
    "print(\"Précision : {}\".format(acc_multi))\n",
    "print(\"Score F1 : {}\".format(f1_multi))\n"
   ]
  },
  {
   "cell_type": "markdown",
   "metadata": {},
   "source": [
    "### Bayes - validation croisee"
   ]
  },
  {
   "cell_type": "code",
   "execution_count": 120,
   "metadata": {},
   "outputs": [
    {
     "name": "stdout",
     "output_type": "stream",
     "text": [
      "0.898148999015425\n"
     ]
    }
   ],
   "source": [
    "K = 10\n",
    "clf = MultinomialNB()\n",
    "scores = cross_val_score(clf, Xm_scaled, Y_mail, cv= K)\n",
    "print(sum(scores)/K)"
   ]
  },
  {
   "cell_type": "markdown",
   "metadata": {},
   "source": [
    "### Bayes - Leave one out"
   ]
  },
  {
   "cell_type": "markdown",
   "metadata": {},
   "source": [
    "## Analyse de galaxies\n",
    "\n",
    "Nous n'avons pas utilisé la recherche par grille pour les données Spam, mais nous allons l'utiliser ici pour définir les meilleurs hyperparamètres pour l'algorithme des K-plus proches voisins. Nous aurions pu l'utiliser dans les cas précédents mais cela ne change rien en terme de résultats purs.\n",
    "\n",
    "### KNN "
   ]
  },
  {
   "cell_type": "code",
   "execution_count": 180,
   "metadata": {
    "collapsed": true
   },
   "outputs": [],
   "source": [
    "galaxy_accuracies_uniform = []\n",
    "galaxy_f1_scores_uniform = []\n",
    "\n",
    "galaxy_accuracies_distance = []\n",
    "galaxy_f1_scores_distance = []"
   ]
  },
  {
   "cell_type": "markdown",
   "metadata": {},
   "source": [
    "parameters = {'weights':('uniform', 'distance'), 'n_neighbors':[3, 5, 10]}\n",
    "\n",
    "knn = KNeighborsClassifier()\n",
    "\n",
    "clf = GridSearchCV(knn, parameters, cv=10)\n",
    "clf.fit(X_galaxy, Y_galaxy)\n",
    "\n",
    "print(clf.best_params_)"
   ]
  },
  {
   "cell_type": "markdown",
   "metadata": {},
   "source": [
    "#### K = 3, 5, 10, Poids = 'uniform' & Poids = 'distance'"
   ]
  },
  {
   "cell_type": "code",
   "execution_count": 200,
   "metadata": {},
   "outputs": [],
   "source": [
    "for n_neigh in (3, 5, 10):\n",
    "\n",
    "    clf = KNeighborsClassifier(n_neighbors=n_neigh, weights='uniform')\n",
    "\n",
    "    clf = clf.fit(Xg_train, Yg_train)\n",
    "    Y_pred = clf.predict(Xg_test)\n",
    "\n",
    "    acc = accuracy_score(Yg_test, Y_pred)\n",
    "    f1 = f1_score(Yg_test, Y_pred, average='weighted') \n",
    "\n",
    "    galaxy_accuracies_uniform.append(acc)\n",
    "    galaxy_f1_scores_uniform.append(f1)\n",
    "\n",
    "\n",
    "    clf = KNeighborsClassifier(n_neighbors=n_neigh, weights='distance')\n",
    "    clf = clf.fit(Xg_train, Yg_train)\n",
    "    Y_pred = clf.predict(Xg_test)\n",
    "\n",
    "    acc = accuracy_score(Yg_test, Y_pred)\n",
    "    f1 = f1_score(Yg_test, Y_pred, average='weighted') \n",
    "\n",
    "    galaxy_accuracies_distance.append(acc)\n",
    "    galaxy_f1_scores_distance.append(f1)"
   ]
  },
  {
   "cell_type": "markdown",
   "metadata": {},
   "source": [
    "#### KNN - Accuracy & F1 Scores"
   ]
  },
  {
   "cell_type": "code",
   "execution_count": 201,
   "metadata": {},
   "outputs": [
    {
     "data": {
      "image/png": "[encoded data removed]",
      "text/plain": [
       "<Figure size 432x288 with 1 Axes>"
      ]
     },
     "metadata": {},
     "output_type": "display_data"
    },
    {
     "name": "stdout",
     "output_type": "stream",
     "text": [
      "[0.5467179183914843, 0.5582495564754583, 0.5629804849201656, 0.9127735068007097, 0.9139562389118865, 0.9130691898285038]\n",
      "[0.546580009350169, 0.5580209973466429, 0.5625866823342862, 0.9128045620129149, 0.9139868730364687, 0.9130881609485738]\n",
      "[0.539030159668835, 0.5408042578356003, 0.560615020697812, 0.9127735068007097, 0.9139562389118865, 0.9210526315789473]\n",
      "[0.538831071662403, 0.5405746872272853, 0.5598099126473268, 0.9128045620129149, 0.9139868730364687, 0.921080081507389]\n"
     ]
    }
   ],
   "source": [
    "for i, label in zip(range(0, 3), (3, 5, 10)):\n",
    "    plt.plot(galaxy_accuracies_uniform[i], galaxy_f1_scores_uniform[i], \"o\", label='K = {}, poids = \"uniform\"'.format(label))\n",
    "    plt.plot(galaxy_accuracies_distance[i], galaxy_f1_scores_distance[i], \"o\", label='K = {}, poids = \"distance\"'.format(label))\n",
    "plt.xlabel(\"Accuracy\")\n",
    "plt.ylabel(\"F1 Score\")\n",
    "plt.legend()\n",
    "plt.show()\n",
    "print(galaxy_accuracies_uniform)\n",
    "print(galaxy_f1_scores_uniform)\n",
    "print(galaxy_accuracies_distance)\n",
    "print(galaxy_f1_scores_distance)"
   ]
  },
  {
   "cell_type": "markdown",
   "metadata": {},
   "source": [
    "#### KNN - Cross-validation\n",
    "Nous obtenons de meilleurs résultats lorsque K = 10 et que le poids est uniforme. Nous allons donc faire la validation croisée avec ces hyperparamètres."
   ]
  },
  {
   "cell_type": "code",
   "execution_count": 208,
   "metadata": {},
   "outputs": [
    {
     "name": "stdout",
     "output_type": "stream",
     "text": [
      "[0.58865248 0.57446809 0.57362507 0.54405677 0.56771141 0.56002365\n",
      " 0.5556213  0.58047337 0.5556213  0.57159763]\n",
      "0.5671851089912532\n"
     ]
    }
   ],
   "source": [
    "nfold = 10\n",
    "clf = KNeighborsClassifier(n_neighbors=10, weights='uniform')\n",
    "scores = cross_val_score(clf, X_galaxy, Y_galaxy, cv=nfold)\n",
    "print (scores)\n",
    "print(sum(scores)/nfold)"
   ]
  },
  {
   "cell_type": "code",
   "execution_count": 209,
   "metadata": {},
   "outputs": [
    {
     "name": "stdout",
     "output_type": "stream",
     "text": [
      "              precision    recall  f1-score   support\n",
      "\n",
      "           0       0.94      0.89      0.91      1731\n",
      "           1       0.89      0.94      0.91      1651\n",
      "\n",
      "   micro avg       0.91      0.91      0.91      3382\n",
      "   macro avg       0.91      0.91      0.91      3382\n",
      "weighted avg       0.91      0.91      0.91      3382\n",
      "\n",
      "[[1532  199]\n",
      " [  95 1556]]\n"
     ]
    }
   ],
   "source": [
    "clf = KNeighborsClassifier(n_neighbors=10, weights='uniform')\n",
    "clf = clf.fit(Xg_train, Yg_train)\n",
    "Y_pred = clf.predict(Xg_test)\n",
    "CM = confusion_matrix(Y_pred, Yg_test)\n",
    "\n",
    "print(classification_report(Y_pred,Yg_test))\n",
    "print(CM)"
   ]
  },
  {
   "cell_type": "markdown",
   "metadata": {},
   "source": [
    "### Bayes\n",
    "#### Loi Gaussienne (normale)"
   ]
  },
  {
   "cell_type": "code",
   "execution_count": 210,
   "metadata": {},
   "outputs": [
    {
     "name": "stdout",
     "output_type": "stream",
     "text": [
      "Précision : 0.6088113542282673\n",
      "Score F1 : 0.5562405046055754\n"
     ]
    }
   ],
   "source": [
    "clf = GaussianNB()\n",
    "clf.fit(Xg_train, Yg_train)\n",
    "Y_pred = clf.predict(Xg_test)\n",
    "\n",
    "acc_gauss = accuracy_score(Yg_test, Y_pred)\n",
    "f1_gauss = f1_score(Yg_test, Y_pred, average='weighted') \n",
    "\n",
    "print(\"Précision : {}\".format(acc_gauss))\n",
    "print(\"Score F1 : {}\".format(f1_gauss))"
   ]
  },
  {
   "cell_type": "markdown",
   "metadata": {},
   "source": [
    "#### Loi Multinomiale"
   ]
  },
  {
   "cell_type": "code",
   "execution_count": 260,
   "metadata": {
    "collapsed": true
   },
   "outputs": [],
   "source": [
    "scaler = preprocessing.MinMaxScaler()\n",
    "Xg_scaled = scaler.fit_transform(X_galaxy)\n",
    "Xg_train, Xg_test, Yg_train, Yg_test = train_test_split(Xg_scaled, Y_galaxy, test_size=0.20, random_state=42, stratify=Y_galaxy)"
   ]
  },
  {
   "cell_type": "markdown",
   "metadata": {},
   "source": [
    "Recherche de l'hyperparametre alpha pour la loi multinomiale"
   ]
  },
  {
   "cell_type": "code",
   "execution_count": 261,
   "metadata": {},
   "outputs": [
    {
     "name": "stdout",
     "output_type": "stream",
     "text": [
      "1.5789473684210527\n"
     ]
    }
   ],
   "source": [
    "NBParamGrid=dict(alpha=np.linspace(0,2,20)[1:])\n",
    "paramsearch = GridSearchCV(estimator=MultinomialNB(), param_grid=NBParamGrid, n_jobs=6,cv=10)\n",
    "paramsearch.fit(Xg_train, Yg_train)\n",
    "selected_alpha = paramsearch.best_estimator_.alpha\n",
    "print(selected_alpha)"
   ]
  },
  {
   "cell_type": "markdown",
   "metadata": {},
   "source": [
    "La meilleure valeur de alpha est 1.578 et sera utilisee par la suite pour la validation"
   ]
  },
  {
   "cell_type": "markdown",
   "metadata": {},
   "source": [
    "#### Bayes - Loi multinomiale - avec holdout validation"
   ]
  },
  {
   "cell_type": "code",
   "execution_count": 271,
   "metadata": {},
   "outputs": [
    {
     "name": "stdout",
     "output_type": "stream",
     "text": [
      "Précision : 0.7897693672383205\n",
      "Score F1 : 0.789556798757904\n"
     ]
    }
   ],
   "source": [
    "clf = MultinomialNB(alpha=selected_alpha)\n",
    "clf.fit(Xg_train, Yg_train)\n",
    "Y_pred = clf.predict(Xg_test)\n",
    "\n",
    "acc_multi = accuracy_score(Yg_test, Y_pred)\n",
    "f1_multi = f1_score(Yg_test, Y_pred, average='weighted') \n",
    "\n",
    "print(\"Précision : {}\".format(acc_multi))\n",
    "print(\"Score F1 : {}\".format(f1_multi))"
   ]
  },
  {
   "cell_type": "markdown",
   "metadata": {},
   "source": [
    "#### Bayes - Loi multinomiale - avec validation croisee"
   ]
  },
  {
   "cell_type": "code",
   "execution_count": 272,
   "metadata": {},
   "outputs": [
    {
     "name": "stdout",
     "output_type": "stream",
     "text": [
      "0.7938833220883036\n"
     ]
    }
   ],
   "source": [
    "K = 10\n",
    "clf = MultinomialNB(alpha=selected_alpha)\n",
    "scores = cross_val_score(clf, Xg_scaled, Y_galaxy, cv= K)\n",
    "print(sum(scores)/K)"
   ]
  },
  {
   "cell_type": "markdown",
   "metadata": {},
   "source": [
    "DOCUMENTATION : Le prof a dit d'utiliser ça : http://scikit-learn.org/stable/auto_examples/svm/plot_rbf_parameters.html"
   ]
  },
  {
   "cell_type": "markdown",
   "metadata": {},
   "source": [
    "## Question 1\n",
    "### Méthode de création des ensembles de données\n",
    "Nous avons essentiellement utilisé les méthodes de la librairie Scikitlearn pour créer nos ensembles de données. Nous utilisons train_test_split pour entrainer des algorithmes avec des validations en holdout, et cross_val_score pour des entrainements avec K fold cross validation. Cette librairie nous offre des moyens simples d'utilisation pour générer des ensembles de tailles pré-déterminée et mélangés pour simuler des conditions au plus proche d'un cas d'utilisation réelle compte tenu de nos données."
   ]
  },
  {
   "cell_type": "markdown",
   "metadata": {},
   "source": [
    "## Question 1\n",
    "### Détails des ensembles produits\n"
   ]
  },
  {
   "cell_type": "markdown",
   "metadata": {},
   "source": [
    "## Question 2\n",
    "### Approche de validation proposée et justification\n",
    "Nous avons choisi de pratiquer des K fold cross validations pour valider la totalité de nos apprentissages car nous pensons que c'est le meilleur compromis parmi K flod CV, leave one out, leave P out et holdout. En effet il nous permet de tester suffisamment de cas de figures d'entrainements pour être confiant sur l'apprentissage suffisamment général par rapport à holdout mais sans pour autant être aussi gourmand en ressources que leave one out ou leave P out."
   ]
  },
  {
   "cell_type": "markdown",
   "metadata": {},
   "source": [
    "## Question 3\n",
    "### Matrice des expérimentations\n",
    "\n",
    "|Données|Pourriels|Galaxies|\n",
    "|-------|---------|--------|\n",
    "|Arbre de décision d=3|Acc = 0.8983, F1 = 0.8975|None|\n",
    "|Arbre de décision d=5|Acc = 0.9000, F1 = 0.8990|None|\n",
    "|Arbre de décision d=10|Acc = 0.9155, F1 = 0.9145|None|\n",
    "|Arbre de décision d=inf|Acc = 0.9133, F1 = 0.9130|None|\n",
    "|Arbre de décision 10-CV|0.9098|None|\n",
    "|3-NN Uniform|Acc = 0.82, F1 = 0.82|Acc = 0.4982, F1 = 0.4981|\n",
    "|3-NN Distance|Acc = 0.83, F1 = 0.83|Acc = 0.5023, F1 = 0.5023|\n",
    "|5-NN Uniform|Acc = 0.809, F1 = 0.809|Acc = 0.5127, F1 = 0.5126|\n",
    "|5-NN Distance|Acc = 0.825, F1 = 0.825|Acc = 0.4985, F1 = 0.4986|\n",
    "|10-NN Uniform|Acc = 0.783, F1 = 0.782|Acc = 0.4943, F1 = 0.4915|\n",
    "|10-NN Distance|Acc = 0.828, F1 = 0.828|Acc = 0.4943, F1 = 0.4941|\n",
    "|3-NN Distance 10-CV|0.8029|0.5044|\n",
    "|Bayes Gaussian|Acc = 0.826, F1 = 0.828|Acc = 0.5147, F1 = 0.4504|\n",
    "|Bayes Multinomial|Acc = 0.9094, F1 = 0.9076|Acc = 0.9094, F1 = 0.9076|\n",
    "|Bayes Multinomial 10-CV|0.0898|0.8981|\n",
    "\n"
   ]
  },
  {
   "cell_type": "markdown",
   "metadata": {},
   "source": [
    "### Etude des hyperparamètres\n",
    "\n",
    "#### Arbres de décision  \n",
    "D'après nos données, plus la profondeur de l'arbre est élevée, plus la précision et le score F1 sont élevés. Lors de l'apprentissage, plus l'arbre est grand, plus l'entropie donc la pureté de nos ensembles de données est meilleure. Dans le cas d'apprentissage pour les spams, la profondeur de 10 ne semble pas causer de sur-apprentissage.   \n",
    "\n",
    "#### KNN  \n",
    "`poids = uniform` veut dire que chaque voisin aura le même poids alors que `poids = distance` donne un poids différent à chaque voisin pour la décision de l'algorithme KNN, qui est proportionnelle à l'inverse de la distance au point dont nous voulons connaitre la classe.  \n",
    "Dans le cas des spams, les meilleurs hyperparamètres sont : `nombre de voisins = 3` et `poids = distance`. Nous pouvons expliquer cela par le fait que....\n",
    "De plus, nous pouvons remarquer que lorsque l'hyperparamètre du poids est égal à $distance$, les résultats sont significativement meilleurs. En effet, les voisins les plus proches aideront à mieux discriminer le point étudié. \n",
    "\n",
    "#### Bayes  \n",
    "Le meilleur résultat pour l'algorithme de Bayes naïf est lorsque celui-ci est multinomial, avec les hyperparamètres `MinMaxScaler` et la `K-Bins discretization`.   \n",
    "D'après la définition de Scikit-learn, `MinMaxScaler` transforme les primitives en les mettant à l'échelle entre 0 et 1. Cela permet de minimiser les différences d'échelle entre les différents attributs. (Ex : un attribut entre 0 et 1000 et un attribut entre 0 et 1).  \n",
    "`KBinsDiscretizer` permet de discrétiser les attributs continus que nous avons en entrée. Cela permet de réduire les différences entre les différentes valeurs que peut prendre l'attribut, ce qui permet de mieux les regrouper entre eux."
   ]
  },
  {
   "cell_type": "markdown",
   "metadata": {},
   "source": [
    "## Question 4\n",
    "### Impact de la taille des ensembles de données sur la performance de classification\n",
    "\n",
    "D'après nos différentes analyses, les ensembles de données qui se démarquent le mieux sont ceux sont les attributs sont discrétisés. En effet, comme expliqué précédemment, cela permet de regrouper un ensemble de valeurs différentes ensemble. Pour ce qui est de la taille des ensembles de données, nous avons beaucoup moins d'exemples pour les spams que pour les galaxies. Cependant, le cas des spams donne des erreurs beaucoup plus faibles que le cas des galaxies. Nous pouvons expliquer cela par le fait que les primitives de Spam sont plus discriminantes que celles des galaxies. Nous pouvons donc déduire de ces exemples que la taille des ensembles des données n'aide pas forcément à une meilleure classification des données. En effet, la qualité des primitives joue un rôle principal dans les classifications. Cependant, lorsque les privitives discriminent bien les données, il est évident qu'un nombre plus important d'exemples d'apprentissage va favoriser une meilleure classification des données."
   ]
  },
  {
   "cell_type": "markdown",
   "metadata": {},
   "source": [
    "## Question 5\n",
    "### Impact du bruit dans les ensembles de données sur la performance de classification"
   ]
  },
  {
   "cell_type": "markdown",
   "metadata": {},
   "source": [
    "## Question 6\n",
    "### Discussion sur la nature des données\n",
    "\n",
    "Les données `Spam` sont extraites de différents mails, qui sont eux même composés d'une série de mots. Les données `Galaxy` sont quant à elles des images. Il est clairement plus difficile d'extraire de bonnes primitives sur des images que sur un texte simple. En effet, il faut tout d'abord effectuer plusieurs pré-traitements sur les images pour pouvoir extraire des données qui ne sont pas complètement sûres, par rapport à un nombre d'enchainement de mots écrits en majuscule dans un texte par exemple.  \n",
    "C'est pourquoi nous arrivons mieux à classifier les mails en Spam que les différents types de galaxies."
   ]
  },
  {
   "cell_type": "markdown",
   "metadata": {},
   "source": [
    "## Question 7\n",
    "### Recommandations"
   ]
  },
  {
   "cell_type": "markdown",
   "metadata": {},
   "source": [
    "## Question 8\n",
    "### Améliorations possibles"
   ]
  }
 ],
 "metadata": {
  "kernelspec": {
   "display_name": "Python 3",
   "language": "python",
   "name": "python3"
  },
  "language_info": {
   "codemirror_mode": {
    "name": "ipython",
    "version": 3
   },
   "file_extension": ".py",
   "mimetype": "text/x-python",
   "name": "python",
   "nbconvert_exporter": "python",
   "pygments_lexer": "ipython3",
   "version": "3.6.6"
  }
 },
 "nbformat": 4,
 "nbformat_minor": 2
}
